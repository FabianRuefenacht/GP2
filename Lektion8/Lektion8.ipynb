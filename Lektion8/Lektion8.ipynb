{
 "cells": [
  {
   "attachments": {},
   "cell_type": "markdown",
   "id": "c2af3ad8-f330-4d87-ba2f-cb4ff5ec5704",
   "metadata": {},
   "source": [
    "# Introduction to STAC\n",
    "\n",
    "STAC stands for SpatioTemporal Asset Catalog. It is an open standard for organizing and describing geospatial data, particularly satellite imagery, in a consistent and interoperable manner. The goal of STAC is to provide a common language for cataloging and discovering Earth observation data from various sources.\n",
    "\n",
    "STAC introduces a hierarchical structure for organizing data using catalogs, collections, and items. Here's a brief explanation of each component:\n",
    "\n",
    "1. **Catalog**: A catalog is the top-level container that provides a high-level overview of the available data. It can contain multiple collections.\n",
    "\n",
    "2. **Collection**: A collection represents a group of related data items. It typically corresponds to a specific dataset, such as imagery from a particular satellite sensor or a specific time period. Collections contain one or more items.\n",
    "\n",
    "3. **Item**: An item is the lowest level of the hierarchy and represents a specific piece of data, such as an individual satellite image or a composite product. Each item contains metadata that describes the data, including its spatial and temporal properties, as well as links to access the data itself.\n",
    "\n",
    "STAC uses JSON (JavaScript Object Notation) as the data format for representing catalogs, collections, and items. This format allows for easy integration with web-based applications and facilitates interoperability between different tools and platforms.\n",
    "\n",
    "By adhering to the STAC specification, organizations can create standardized catalogs that enable data discovery, access, and analysis across multiple data sources. It promotes data interoperability, making it easier for researchers, developers, and other users to work with geospatial data from different providers.\n",
    "\n",
    "\n",
    "We use pystac-client: https://pystac-client.readthedocs.io/en/stable/ to access data\n",
    "\n",
    "\n",
    "\n",
    "If you didn't yet install pystac-client you can do so using:\n",
    "\n",
    "    conda install pystac-client -c conda-forge\n",
    "\n"
   ]
  },
  {
   "cell_type": "code",
   "execution_count": 6,
   "id": "24e94c3d-c232-4e07-9850-923f7ca0f316",
   "metadata": {},
   "outputs": [],
   "source": [
    "from datetime import datetime\n",
    "from pystac_client import Client\n",
    "import pandas as pd\n",
    "import geopandas as gpd\n",
    "import IPython.display"
   ]
  },
  {
   "attachments": {},
   "cell_type": "markdown",
   "id": "18b75139-ffb7-4dd2-8692-71cf3206b9d6",
   "metadata": {},
   "source": [
    "## Catalog: Federeral Office of Topography swisstopo (Switzerland)\n",
    "\n",
    "https://www.geo.admin.ch/en/rest-interface-stac-api"
   ]
  },
  {
   "cell_type": "code",
   "execution_count": 7,
   "id": "6cb21b20-9777-44d2-95f0-8e8af76f65bf",
   "metadata": {},
   "outputs": [
    {
     "name": "stdout",
     "output_type": "stream",
     "text": [
      "data.geo.admin.ch\n",
      "Data Catalog of the Swiss Federal Spatial Data Infrastructure\n",
      "--------------------------------------------------------------------------------\n",
      "ch.are.agglomerationsverkehr\n",
      "ch.are.alpenkonvention\n",
      "ch.are.belastung-personenverkehr-bahn\n",
      "ch.are.belastung-personenverkehr-bahn_zukunft\n",
      "ch.are.belastung-personenverkehr-strasse\n",
      "ch.are.belastung-personenverkehr-strasse_zukunft\n",
      "ch.are.erreichbarkeit-miv\n",
      "ch.are.erreichbarkeit-oev\n",
      "ch.are.gemeindetypen\n",
      "ch.are.gueteklassen_oev\n",
      "ch.are.landschaftstypen\n",
      "ch.are.reisezeit-agglomerationen-miv\n",
      "ch.are.reisezeit-agglomerationen-oev\n",
      "ch.are.reisezeit-miv\n",
      "ch.are.reisezeit-oev\n",
      "ch.are.windenergie-bundesinteressen\n",
      "ch.are.wohnungsinventar-zweitwohnungsanteil\n",
      "ch.astra.hauptstrassennetz\n",
      "ch.astra.ivs-gelaendekarte\n",
      "ch.astra.ivs-nat\n",
      "ch.astra.ivs-nat_abgrenzungen\n",
      "ch.astra.ivs-nat-verlaeufe\n",
      "ch.astra.ivs-nat_wegbegleiter\n",
      "ch.astra.ivs-reg_loc\n",
      "ch.astra.mountainbikeland\n",
      "ch.astra.nationalstrassenachsen\n",
      "ch.astra.sachplan-infrastruktur-strasse_anhoerung\n",
      "ch.astra.sachplan-infrastruktur-strasse_kraft\n",
      "ch.astra.skatingland\n",
      "ch.astra.strassenverkehrszaehlung-uebergeordnet\n",
      "ch.astra.unfaelle-personenschaeden_alle\n",
      "ch.astra.veloland\n",
      "ch.astra.wanderland\n",
      "ch.babs.kulturgueter\n",
      "ch.bafu.alpweiden-herdenschutzhunde\n",
      "ch.bafu.bundesinventare-auen\n",
      "ch.bafu.bundesinventare-bln\n",
      "ch.bafu.gefaehrdungskarte-oberflaechenabfluss\n",
      "ch.bafu.gefahren-baugrundklassen\n",
      "ch.bafu.gefahren-waldbrand_praeventionsmassnahmen_kantone\n",
      "ch.bafu.gefahren-waldbrand_warnung\n",
      "ch.bafu.gewaesserschutz-badewasserqualitaet\n",
      "ch.bafu.gewaesserschutz-diffuse_eintraege_gesamt_phosphor\n",
      "ch.bafu.gewaesserschutz-diffuse_eintraege_phosphor\n",
      "ch.bafu.gewaesserschutz-diffuse_eintraege_stickstoff\n",
      "ch.bafu.gewaesserschutz-klaeranlagen\n",
      "ch.bafu.gewaesserschutz-nawa\n",
      "ch.bafu.gewaesser-uferbestockung\n",
      "ch.bafu.gewaesser-uferbestockung_vegetation\n",
      "ch.bafu.hydrologie-daueruntersuchung_fliessgewaesser\n",
      "ch.bafu.klima-co2_ausstoss_gebaeude\n",
      "ch.bafu.landesforstinventar-kantone\n",
      "ch.bafu.landesforstinventar-produktionsregionen\n",
      "ch.bafu.landesforstinventar-schutzwaldregionen\n",
      "ch.bafu.landesforstinventar-wirtschaftsregionen\n",
      "ch.bafu.lebensraumkarte-schweiz\n",
      "ch.bafu.oekomorphologie-f\n",
      "ch.bafu.schutzgebiete-paerke_nationaler_bedeutung\n",
      "ch.bafu.tranquillity-gebiete\n",
      "ch.bafu.tranquillity-karte\n",
      "ch.bafu.typisierung-fliessgewaesser\n",
      "ch.bafu.wald-foehnhaeufigkeit_jahr\n",
      "ch.bafu.wald-kontinentalitaet_jahr_1000m_1981_2010\n",
      "ch.bafu.wald-kontinentalitaet_juli_1000m_1981_2010\n",
      "ch.bafu.wald-lufttemperatur_juli_1961_1990\n",
      "ch.bafu.wald-lufttemperatur_juli_1981_2010\n",
      "ch.bafu.wald-lufttemperatur_juli_2085_gering\n",
      "ch.bafu.wald-lufttemperatur_juli_2085_maessig\n",
      "ch.bafu.wald-lufttemperatur_juli_2085_stark\n",
      "ch.bafu.wald-niederschlag_april_august_2085_gering\n",
      "ch.bafu.wald-niederschlag_april_august_2085_maessig\n",
      "ch.bafu.wald-niederschlag_april_august_2085_stark\n",
      "ch.bafu.wald-niederschlag_sommer_2085_gering\n",
      "ch.bafu.wald-niederschlag_sommer_2085_maessig\n",
      "ch.bafu.wald-niederschlag_sommer_2085_stark\n",
      "ch.bafu.wald-obere_waldgrenze\n",
      "ch.bafu.wald-relative_luftfeuchte_jahr_1981_2010\n",
      "ch.bafu.wald-relative_luftfeuchte_juli_1981_2010\n",
      "ch.bafu.waldschadenflaechen-lothar\n",
      "ch.bafu.waldschadenflaechen-vivian\n",
      "ch.bafu.wald-standortsregionen\n",
      "ch.bafu.wald-tannenareale\n",
      "ch.bafu.wald-vegetationshoehenstufen_1975\n",
      "ch.bafu.wald-vegetationshoehenstufen_2085_trocken\n",
      "ch.bafu.wald-vegetationshoehenstufen_2085_weniger_trocken\n",
      "ch.bafu.wald-wasserverfuegbarkeit_boden\n",
      "ch.bafu.wald-wasserverfuegbarkeit_pflanzen\n",
      "ch.bafu.wasserbau-querprofilmarken\n",
      "ch.bafu.wasserbau-vermessungsstrecken\n",
      "ch.bag.radioaktivitaet-atmosphaere\n",
      "ch.bag.radonkarte\n",
      "ch.bag.zecken-fsme-faelle\n",
      "ch.bag.zecken-fsme-impfung\n",
      "ch.bag.zeckenstichmodell\n",
      "ch.bak.bundesinventar-schuetzenswerte-ortsbilder\n",
      "ch.bak.halteplaetze-jenische_sinti_roma\n",
      "ch.bakom.anbieter-eigenes_festnetz\n",
      "ch.bakom.anschlussart-glasfaser\n",
      "ch.bakom.anschlussart-koaxialkabel\n",
      "ch.bakom.anschlussart-kupferdraht\n",
      "ch.bakom.downlink10\n",
      "ch.bakom.downlink100\n",
      "ch.bakom.downlink1000\n",
      "ch.bakom.downlink30\n",
      "ch.bakom.downlink300\n",
      "ch.bakom.downlink500\n",
      "ch.bakom.mobilnetz-2g\n",
      "ch.bakom.mobilnetz-3g\n",
      "ch.bakom.mobilnetz-4g\n",
      "ch.bakom.mobilnetz-5g\n",
      "ch.bakom.notruf\n",
      "ch.bakom.notruf-112_festnetz\n",
      "ch.bakom.notruf-112_mobilnetz\n",
      "ch.bakom.notruf-112_satellit\n",
      "ch.bakom.notruf-112_zentral\n",
      "ch.bakom.notruf-117_festnetz\n",
      "ch.bakom.notruf-117_mobilnetz\n",
      "ch.bakom.notruf-117_zentral\n",
      "ch.bakom.notruf-118_festnetz\n",
      "ch.bakom.notruf-118_mobilnetz\n",
      "ch.bakom.notruf-118_zentral\n",
      "ch.bakom.notruf-143_festnetz\n",
      "ch.bakom.notruf-143_mobilnetz\n",
      "ch.bakom.notruf-143_zentral\n",
      "ch.bakom.notruf-144_festnetz\n",
      "ch.bakom.notruf-144_mobilnetz\n",
      "ch.bakom.notruf-144_zentral\n",
      "ch.bakom.notruf-145_festnetz\n",
      "ch.bakom.notruf-145_mobilnetz\n",
      "ch.bakom.notruf-145_zentral\n",
      "ch.bakom.notruf-147_festnetz\n",
      "ch.bakom.notruf-147_mobilnetz\n",
      "ch.bakom.notruf-147_zentral\n",
      "ch.bakom.radio-fernsehsender\n",
      "ch.bakom.richtfunkverbindungen\n",
      "ch.bakom.uplink1\n",
      "ch.bakom.uplink10\n",
      "ch.bakom.uplink100\n",
      "ch.bakom.uplink1000\n",
      "ch.bakom.versorgungsgebiet-tv\n",
      "ch.bakom.versorgungsgebiet-ukw\n",
      "ch.bak.schutzgebiete-unesco_weltkulturerbe\n",
      "ch.baspo.nationales-sportanlagenkonzept\n",
      "ch.bav.anlagen-schienengueterverkehr\n",
      "ch.bav.haltestellen-oev\n",
      "ch.bav.sachplan-infrastruktur-schiene_anhorung\n",
      "ch.bav.sachplan-infrastruktur-schiene_ausgangslage\n",
      "ch.bav.sachplan-infrastruktur-schiene_kraft\n",
      "ch.bav.sachplan-infrastruktur-schifffahrt_anhoerung\n",
      "ch.bav.sachplan-infrastruktur-schifffahrt_ausgangslage\n",
      "ch.bav.sachplan-infrastruktur-schifffahrt_kraft\n",
      "ch.bav.schienennetz\n",
      "ch.bav.seilbahnen-bundeskonzession\n",
      "ch.bazl.einschraenkungen-drohnen\n",
      "ch.bazl.laermbelastungskataster-zivilflugplaetze\n",
      "ch.bazl.landschaftsruhezonen\n",
      "ch.bazl.luftfahrthindernis\n",
      "ch.bazl.luftfahrtkarten-icao\n",
      "ch.bazl.projektierungszonen-flughafenanlagen\n",
      "ch.bazl.sachplan-infrastruktur-luftfahrt_anhorung\n",
      "ch.bazl.sachplan-infrastruktur-luftfahrt_kraft\n",
      "ch.bazl.segelflugkarte\n",
      "ch.bazl.sicherheitszonenplan\n",
      "ch.bfe.abgeltung-wasserkraftnutzung\n",
      "ch.bfe.biogasanlagen\n",
      "ch.bfe.biomasse-nicht-verholzt\n",
      "ch.bfe.biomasse-verholzt\n",
      "ch.bfe.elektrizitaetsproduktionsanlagen\n",
      "ch.bfe.energieberatungsstellen\n",
      "ch.bfe.energieforschung\n",
      "ch.bfe.energiestaedte\n",
      "ch.bfe.energiestaedte-2000watt-areale\n",
      "ch.bfe.erneuerbarheizen\n",
      "ch.bfe.erneuerbarheizen-mehrfamilienhaeuser\n",
      "ch.bfe.fernwaerme-angebot\n",
      "ch.bfe.fernwaerme-nachfrage_industrie\n",
      "ch.bfe.fernwaerme-nachfrage_wohn_dienstleistungsgebaeude\n",
      "ch.bfe.kehrichtverbrennungsanlagen\n",
      "ch.bfe.kernkraftwerke\n",
      "ch.bfe.kleinwasserkraftpotentiale\n",
      "ch.bfe.komo-projekte\n",
      "ch.bfe.ladestellen-elektromobilitaet\n",
      "ch.bfe.meteorologische-vereisung\n",
      "ch.bfe.sachplan-geologie-tiefenlager\n",
      "ch.bfe.sachplan-uebertragungsleitungen_kraft\n",
      "ch.bfe.solarenergie-eignung-daecher\n",
      "ch.bfe.solarenergie-eignung-fassaden\n",
      "ch.bfe.statistik-wasserkraftanlagen\n",
      "ch.bfe.stauanlagen-bundesaufsicht\n",
      "ch.bfe.thermische-netze\n",
      "ch.bfe.waermepotential-gewaesser\n",
      "ch.bfe.windenergieanlagen\n",
      "ch.bfe.windenergie-geschwindigkeit_h100\n",
      "ch.bfe.windenergie-geschwindigkeit_h125\n",
      "ch.bfe.windenergie-geschwindigkeit_h150\n",
      "ch.bfe.windenergie-geschwindigkeit_h50\n",
      "ch.bfe.windenergie-geschwindigkeit_h75\n",
      "ch.bfe.windenergie-potenzialgebiete\n",
      "ch.bfs.arealstatistik\n",
      "ch.bfs.arealstatistik-bodenbedeckung\n",
      "ch.bfs.betriebszaehlungen-arbeitsstaetten\n",
      "ch.bfs.betriebszaehlungen-beschaeftigte_vollzeitaequivalente\n",
      "ch.bfs.erreichbarkeit-apotheken\n",
      "ch.bfs.erreichbarkeit-restaurants\n",
      "ch.bfs.gebaeude_wohnungs_register_waermequelle_heizung\n",
      "ch.bfs.generalisierte-grenzen_agglomerationen_g1\n",
      "ch.bfs.generalisierte-grenzen_agglomerationen_g2\n",
      "ch.bfs.volkszaehlung-bevoelkerungsstatistik_einwohner\n",
      "ch.bfs.volkszaehlung-gebaeudestatistik_gebaeude\n",
      "ch.bfs.volkszaehlung-gebaeudestatistik_wohnungen\n",
      "ch.blw.alpprodukte\n",
      "ch.blw.bergprodukte\n",
      "ch.blw.bewaesserungsbeduerftigkeit\n",
      "ch.blw.bodeneignung-gruendigkeit\n",
      "ch.blw.bodeneignung-kulturland\n",
      "ch.blw.bodeneignung-kulturtyp\n",
      "ch.blw.bodeneignung-naehrstoffspeichervermoegen\n",
      "ch.blw.bodeneignung-skelettgehalt\n",
      "ch.blw.bodeneignung-vernaessung\n",
      "ch.blw.bodeneignung-wasserdurchlaessigkeit\n",
      "ch.blw.bodeneignung-wasserspeichervermoegen\n",
      "ch.blw.erosion\n",
      "ch.blw.erosion-fliesswegkarte\n",
      "ch.blw.erosion-quantitativ\n",
      "ch.blw.feldblockkarte\n",
      "ch.blw.gewaesseranschlusskarte\n",
      "ch.blw.gewaesseranschlusskarte-direkt\n",
      "ch.blw.hang_steillagen\n",
      "ch.blw.klimaeignung-futterbau\n",
      "ch.blw.klimaeignung-getreidebau\n",
      "ch.blw.klimaeignung-kartoffeln\n",
      "ch.blw.klimaeignung-koernermais\n",
      "ch.blw.klimaeignung-kulturland\n",
      "ch.blw.klimaeignung-spezialkulturen\n",
      "ch.blw.klimaeignung-typ\n",
      "ch.blw.klimaeignung-zwischenfruchtbau\n",
      "ch.blw.landwirtschaftliche-zonengrenzen\n",
      "ch.blw.niederschlagshaushalt\n",
      "ch.blw.steil_terrassenlagen_rebbau\n",
      "ch.blw.ursprungsbezeichnungen-fleisch\n",
      "ch.blw.ursprungsbezeichnungen-kaese\n",
      "ch.blw.ursprungsbezeichnungen-konditoreiwaren\n",
      "ch.blw.ursprungsbezeichnungen-pflanzen\n",
      "ch.blw.ursprungsbezeichnungen-spirituosen\n",
      "ch.ensi.zonenplan-notfallschutz-kernanlagen\n",
      "ch.meteoschweiz.hagelgefaehrdung-korngroesse_100_jahre\n",
      "ch.meteoschweiz.hagelgefaehrdung-korngroesse_10_jahre\n",
      "ch.meteoschweiz.hagelgefaehrdung-korngroesse_20_jahre\n",
      "ch.meteoschweiz.hagelgefaehrdung-korngroesse_50_jahre\n",
      "ch.meteoschweiz.klimanormwerte-niederschlag_1961_1990\n",
      "ch.meteoschweiz.klimanormwerte-niederschlag_aktuelle_periode\n",
      "ch.meteoschweiz.klimanormwerte-sonnenscheindauer_1961_1990\n",
      "ch.meteoschweiz.klimanormwerte-sonnenscheindauer_aktuelle_periode\n",
      "ch.meteoschweiz.klimanormwerte-temperatur_1961_1990\n",
      "ch.meteoschweiz.klimanormwerte-temperatur_aktuelle_periode\n",
      "ch.meteoschweiz.klimaszenarien-raumklima\n",
      "ch.pronatura.naturschutzgebiete\n",
      "ch.sem.sachplan-asyl_kraft\n",
      "ch.swisstopo.fixpunkte-agnes\n",
      "ch.swisstopo.geoidmodell-ch1903\n",
      "ch.swisstopo.geoidmodell-etrs89\n",
      "ch.swisstopo.geologie-geotope_kantone_stand\n",
      "ch.swisstopo.landeskarte-farbe-10\n",
      "ch.swisstopo.landeskarte-farbe_winter_10\n",
      "ch.swisstopo.landeskarte-farbe_winter_100\n",
      "ch.swisstopo.landeskarte-farbe_winter_200\n",
      "ch.swisstopo.landeskarte-farbe_winter_25\n",
      "ch.swisstopo.landeskarte-farbe_winter_50\n",
      "ch.swisstopo.pixelkarte-farbe-pk1000.noscale\n",
      "ch.swisstopo.pixelkarte-farbe-pk100.noscale\n",
      "ch.swisstopo.pixelkarte-farbe-pk200.noscale\n",
      "ch.swisstopo.pixelkarte-farbe-pk25.noscale\n",
      "ch.swisstopo.pixelkarte-farbe-pk500.noscale\n",
      "ch.swisstopo.pixelkarte-farbe-pk50.noscale\n",
      "ch.swisstopo.strassenkarte-200\n",
      "ch.swisstopo.swissalti3d\n",
      "ch.swisstopo.swissbathy3d\n",
      "ch.swisstopo.swissboundaries3d\n",
      "ch.swisstopo.swissbuildings3d_2\n",
      "ch.swisstopo.swissbuildings3d_3_0\n",
      "ch.swisstopo.swissimage-dop10\n",
      "ch.swisstopo.swiss-map-vector10\n",
      "ch.swisstopo.swiss-map-vector1000\n",
      "ch.swisstopo.swiss-map-vector25\n",
      "ch.swisstopo.swiss-map-vector500\n",
      "ch.swisstopo.swissnames3d\n",
      "ch.swisstopo.swisssurface3d\n",
      "ch.swisstopo.swisssurface3d-raster\n",
      "ch.swisstopo.swisstlm3d\n",
      "ch.swisstopo.swisstlmregio\n",
      "ch.swisstopo.swisstne-base\n",
      "ch.swisstopo-vd.ortschaftenverzeichnis_plz\n",
      "ch.swisstopo-vd.spannungsarme-gebiete\n",
      "ch.vbs.armee-kriegsdenkmaeler\n",
      "ch.vbs.patrouilledesglaciers-a_rennen\n",
      "ch.vbs.patrouilledesglaciers-z_rennen\n",
      "ch.vbs.sachplan-infrastruktur-militaer_anhoerung\n",
      "ch.vbs.sachplan-infrastruktur-militaer_kraft\n",
      "ch.vbs.schiessanzeigen\n",
      "ch.vbs.territorialregionen\n"
     ]
    }
   ],
   "source": [
    "catalog = Client.open(\"https://data.geo.admin.ch/api/stac/v0.9/\")\n",
    "\n",
    "print(catalog.title)\n",
    "print(catalog.description)\n",
    "print(\"-\"*80)\n",
    "\n",
    "\n",
    "\n",
    "for collection in catalog.get_collections():\n",
    "    print(collection.id)"
   ]
  },
  {
   "cell_type": "code",
   "execution_count": 4,
   "id": "a59d6086-4690-44f3-a943-e26b79cd66c1",
   "metadata": {},
   "outputs": [
    {
     "ename": "NameError",
     "evalue": "name 'catalog' is not defined",
     "output_type": "error",
     "traceback": [
      "\u001b[1;31m---------------------------------------------------------------------------\u001b[0m",
      "\u001b[1;31mNameError\u001b[0m                                 Traceback (most recent call last)",
      "Cell \u001b[1;32mIn[4], line 1\u001b[0m\n\u001b[1;32m----> 1\u001b[0m collection \u001b[39m=\u001b[39m catalog\u001b[39m.\u001b[39mget_collection(\u001b[39m\"\u001b[39m\u001b[39mch.astra.hauptstrassennetz\u001b[39m\u001b[39m\"\u001b[39m)\n",
      "\u001b[1;31mNameError\u001b[0m: name 'catalog' is not defined"
     ]
    }
   ],
   "source": [
    "collection = catalog.get_collection(\"ch.astra.hauptstrassennetz\")"
   ]
  },
  {
   "cell_type": "code",
   "execution_count": null,
   "id": "3f3ba3e9-10ed-43ba-a9ab-665aca803677",
   "metadata": {},
   "outputs": [],
   "source": []
  },
  {
   "cell_type": "code",
   "execution_count": null,
   "id": "42244699-802e-474f-87c1-99e77cc890d6",
   "metadata": {},
   "outputs": [],
   "source": []
  },
  {
   "attachments": {},
   "cell_type": "markdown",
   "id": "a08faba6-6243-4584-b968-aae9bf81e22f",
   "metadata": {},
   "source": [
    "### Convert Catalog to Pandas DataFrame / csv"
   ]
  },
  {
   "cell_type": "code",
   "execution_count": 8,
   "id": "cadc0778-814a-47fa-a5bc-d45a33bfac51",
   "metadata": {},
   "outputs": [],
   "source": [
    "d = []\n",
    "\n",
    "for collection in catalog.get_collections():\n",
    "    d.append(collection.to_dict())\n",
    "    \n",
    "df = pd.DataFrame(d)\n",
    "df.to_csv(\"stac-catlog-swisstopo.csv\")"
   ]
  },
  {
   "cell_type": "code",
   "execution_count": 9,
   "id": "57588205-354f-486e-aee3-2712706d17fc",
   "metadata": {},
   "outputs": [
    {
     "data": {
      "text/html": [
       "<div>\n",
       "<style scoped>\n",
       "    .dataframe tbody tr th:only-of-type {\n",
       "        vertical-align: middle;\n",
       "    }\n",
       "\n",
       "    .dataframe tbody tr th {\n",
       "        vertical-align: top;\n",
       "    }\n",
       "\n",
       "    .dataframe thead th {\n",
       "        text-align: right;\n",
       "    }\n",
       "</style>\n",
       "<table border=\"1\" class=\"dataframe\">\n",
       "  <thead>\n",
       "    <tr style=\"text-align: right;\">\n",
       "      <th></th>\n",
       "      <th>type</th>\n",
       "      <th>id</th>\n",
       "      <th>stac_version</th>\n",
       "      <th>description</th>\n",
       "      <th>links</th>\n",
       "      <th>created</th>\n",
       "      <th>updated</th>\n",
       "      <th>crs</th>\n",
       "      <th>itemType</th>\n",
       "      <th>title</th>\n",
       "      <th>extent</th>\n",
       "      <th>license</th>\n",
       "      <th>providers</th>\n",
       "      <th>summaries</th>\n",
       "    </tr>\n",
       "  </thead>\n",
       "  <tbody>\n",
       "    <tr>\n",
       "      <th>0</th>\n",
       "      <td>Collection</td>\n",
       "      <td>ch.are.agglomerationsverkehr</td>\n",
       "      <td>1.0.0</td>\n",
       "      <td>The list of cities and conurbations which qual...</td>\n",
       "      <td>[{'rel': 'self', 'href': 'https://data.geo.adm...</td>\n",
       "      <td>2021-10-13T14:38:04.044650Z</td>\n",
       "      <td>2023-05-15T09:14:39.604702Z</td>\n",
       "      <td>[http://www.opengis.net/def/crs/OGC/1.3/CRS84]</td>\n",
       "      <td>Feature</td>\n",
       "      <td>Cities and conurbations which qualify for subs...</td>\n",
       "      <td>{'spatial': {'bbox': [[5.96, 45.82, 10.49, 47....</td>\n",
       "      <td>proprietary</td>\n",
       "      <td>[{'name': 'Federal Office for Spatial Developm...</td>\n",
       "      <td>{'proj:epsg': [2056]}</td>\n",
       "    </tr>\n",
       "    <tr>\n",
       "      <th>1</th>\n",
       "      <td>Collection</td>\n",
       "      <td>ch.are.alpenkonvention</td>\n",
       "      <td>1.0.0</td>\n",
       "      <td>The perimeters of the Alpine Convention in Swi...</td>\n",
       "      <td>[{'rel': 'self', 'href': 'https://data.geo.adm...</td>\n",
       "      <td>2021-10-13T14:41:42.217694Z</td>\n",
       "      <td>2022-09-14T08:51:14.284101Z</td>\n",
       "      <td>[http://www.opengis.net/def/crs/OGC/1.3/CRS84]</td>\n",
       "      <td>Feature</td>\n",
       "      <td>Alpine Convention</td>\n",
       "      <td>{'spatial': {'bbox': [[5.96, 45.82, 10.49, 47....</td>\n",
       "      <td>proprietary</td>\n",
       "      <td>[{'name': 'Federal Office for Spatial Developm...</td>\n",
       "      <td>{'proj:epsg': [2056]}</td>\n",
       "    </tr>\n",
       "    <tr>\n",
       "      <th>2</th>\n",
       "      <td>Collection</td>\n",
       "      <td>ch.are.belastung-personenverkehr-bahn</td>\n",
       "      <td>1.0.0</td>\n",
       "      <td>Passengers transported by public transport on ...</td>\n",
       "      <td>[{'rel': 'self', 'href': 'https://data.geo.adm...</td>\n",
       "      <td>2021-10-13T14:44:14.224707Z</td>\n",
       "      <td>2022-09-14T09:08:28.273027Z</td>\n",
       "      <td>[http://www.opengis.net/def/crs/OGC/1.3/CRS84]</td>\n",
       "      <td>Feature</td>\n",
       "      <td>Load (passengers) on the Swiss rail network (p...</td>\n",
       "      <td>{'spatial': {'bbox': [[5.96, 45.82, 10.49, 47....</td>\n",
       "      <td>proprietary</td>\n",
       "      <td>[{'name': 'Federal Office for Spatial Developm...</td>\n",
       "      <td>{'proj:epsg': [2056]}</td>\n",
       "    </tr>\n",
       "    <tr>\n",
       "      <th>3</th>\n",
       "      <td>Collection</td>\n",
       "      <td>ch.are.belastung-personenverkehr-bahn_zukunft</td>\n",
       "      <td>1.0.0</td>\n",
       "      <td>Passengers transported by public transport on ...</td>\n",
       "      <td>[{'rel': 'self', 'href': 'https://data.geo.adm...</td>\n",
       "      <td>2021-12-09T15:08:16.675625Z</td>\n",
       "      <td>2022-09-14T09:08:54.483412Z</td>\n",
       "      <td>[http://www.opengis.net/def/crs/OGC/1.3/CRS84]</td>\n",
       "      <td>Feature</td>\n",
       "      <td>Load (passengers) on the Swiss rail network (p...</td>\n",
       "      <td>{'spatial': {'bbox': [[5.96, 45.82, 10.49, 47....</td>\n",
       "      <td>proprietary</td>\n",
       "      <td>[{'name': 'Federal Office for Spatial Developm...</td>\n",
       "      <td>{'proj:epsg': [2056]}</td>\n",
       "    </tr>\n",
       "    <tr>\n",
       "      <th>4</th>\n",
       "      <td>Collection</td>\n",
       "      <td>ch.are.belastung-personenverkehr-strasse</td>\n",
       "      <td>1.0.0</td>\n",
       "      <td>Vehicles on the Swiss road network, divided in...</td>\n",
       "      <td>[{'rel': 'self', 'href': 'https://data.geo.adm...</td>\n",
       "      <td>2021-10-13T14:46:37.395042Z</td>\n",
       "      <td>2022-09-14T09:09:29.015894Z</td>\n",
       "      <td>[http://www.opengis.net/def/crs/OGC/1.3/CRS84]</td>\n",
       "      <td>Feature</td>\n",
       "      <td>Load (vehicles) on the Swiss road network (pas...</td>\n",
       "      <td>{'spatial': {'bbox': [[5.96, 45.82, 10.49, 47....</td>\n",
       "      <td>proprietary</td>\n",
       "      <td>[{'name': 'Federal Office for Spatial Developm...</td>\n",
       "      <td>{'proj:epsg': [2056]}</td>\n",
       "    </tr>\n",
       "  </tbody>\n",
       "</table>\n",
       "</div>"
      ],
      "text/plain": [
       "         type                                             id stac_version  \\\n",
       "0  Collection                   ch.are.agglomerationsverkehr        1.0.0   \n",
       "1  Collection                         ch.are.alpenkonvention        1.0.0   \n",
       "2  Collection          ch.are.belastung-personenverkehr-bahn        1.0.0   \n",
       "3  Collection  ch.are.belastung-personenverkehr-bahn_zukunft        1.0.0   \n",
       "4  Collection       ch.are.belastung-personenverkehr-strasse        1.0.0   \n",
       "\n",
       "                                         description  \\\n",
       "0  The list of cities and conurbations which qual...   \n",
       "1  The perimeters of the Alpine Convention in Swi...   \n",
       "2  Passengers transported by public transport on ...   \n",
       "3  Passengers transported by public transport on ...   \n",
       "4  Vehicles on the Swiss road network, divided in...   \n",
       "\n",
       "                                               links  \\\n",
       "0  [{'rel': 'self', 'href': 'https://data.geo.adm...   \n",
       "1  [{'rel': 'self', 'href': 'https://data.geo.adm...   \n",
       "2  [{'rel': 'self', 'href': 'https://data.geo.adm...   \n",
       "3  [{'rel': 'self', 'href': 'https://data.geo.adm...   \n",
       "4  [{'rel': 'self', 'href': 'https://data.geo.adm...   \n",
       "\n",
       "                       created                      updated  \\\n",
       "0  2021-10-13T14:38:04.044650Z  2023-05-15T09:14:39.604702Z   \n",
       "1  2021-10-13T14:41:42.217694Z  2022-09-14T08:51:14.284101Z   \n",
       "2  2021-10-13T14:44:14.224707Z  2022-09-14T09:08:28.273027Z   \n",
       "3  2021-12-09T15:08:16.675625Z  2022-09-14T09:08:54.483412Z   \n",
       "4  2021-10-13T14:46:37.395042Z  2022-09-14T09:09:29.015894Z   \n",
       "\n",
       "                                              crs itemType  \\\n",
       "0  [http://www.opengis.net/def/crs/OGC/1.3/CRS84]  Feature   \n",
       "1  [http://www.opengis.net/def/crs/OGC/1.3/CRS84]  Feature   \n",
       "2  [http://www.opengis.net/def/crs/OGC/1.3/CRS84]  Feature   \n",
       "3  [http://www.opengis.net/def/crs/OGC/1.3/CRS84]  Feature   \n",
       "4  [http://www.opengis.net/def/crs/OGC/1.3/CRS84]  Feature   \n",
       "\n",
       "                                               title  \\\n",
       "0  Cities and conurbations which qualify for subs...   \n",
       "1                                  Alpine Convention   \n",
       "2  Load (passengers) on the Swiss rail network (p...   \n",
       "3  Load (passengers) on the Swiss rail network (p...   \n",
       "4  Load (vehicles) on the Swiss road network (pas...   \n",
       "\n",
       "                                              extent      license  \\\n",
       "0  {'spatial': {'bbox': [[5.96, 45.82, 10.49, 47....  proprietary   \n",
       "1  {'spatial': {'bbox': [[5.96, 45.82, 10.49, 47....  proprietary   \n",
       "2  {'spatial': {'bbox': [[5.96, 45.82, 10.49, 47....  proprietary   \n",
       "3  {'spatial': {'bbox': [[5.96, 45.82, 10.49, 47....  proprietary   \n",
       "4  {'spatial': {'bbox': [[5.96, 45.82, 10.49, 47....  proprietary   \n",
       "\n",
       "                                           providers              summaries  \n",
       "0  [{'name': 'Federal Office for Spatial Developm...  {'proj:epsg': [2056]}  \n",
       "1  [{'name': 'Federal Office for Spatial Developm...  {'proj:epsg': [2056]}  \n",
       "2  [{'name': 'Federal Office for Spatial Developm...  {'proj:epsg': [2056]}  \n",
       "3  [{'name': 'Federal Office for Spatial Developm...  {'proj:epsg': [2056]}  \n",
       "4  [{'name': 'Federal Office for Spatial Developm...  {'proj:epsg': [2056]}  "
      ]
     },
     "execution_count": 9,
     "metadata": {},
     "output_type": "execute_result"
    }
   ],
   "source": [
    "df.head()"
   ]
  },
  {
   "attachments": {},
   "cell_type": "markdown",
   "id": "db2fb71c-9136-4699-8e11-9538ab97c6e5",
   "metadata": {},
   "source": [
    "## ch.bakom.mobilnetz-5g\n",
    "\n",
    "Map of 5G Connectivity. There is currently only one file, which makes it quite easy.\n",
    "\n",
    "* The file is a raster with 3 values representing:\n",
    "  * No Connectivity\n",
    "  * Covered by less than 3 providers\n",
    "  * Covered by 3 providers\n",
    "  "
   ]
  },
  {
   "cell_type": "code",
   "execution_count": 10,
   "id": "95f3806a-593c-4e4c-a244-0e37bbee1fe9",
   "metadata": {},
   "outputs": [
    {
     "name": "stdout",
     "output_type": "stream",
     "text": [
      "{'type': 'Feature', 'stac_version': '1.0.0', 'id': 'mobilnetz-5g', 'properties': {'datetime': '2023-04-30T00:00:00Z', 'title': '5G - NR', 'created': '2022-07-20T08:24:14.509531Z', 'updated': '2023-06-01T16:12:40.687251Z'}, 'geometry': {'type': 'Polygon', 'coordinates': [[[5.96, 45.82], [5.96, 47.81], [10.49, 47.81], [10.49, 45.82], [5.96, 45.82]]]}, 'links': [{'rel': 'self', 'href': 'https://data.geo.admin.ch/api/stac/v0.9/collections/ch.bakom.mobilnetz-5g/items/mobilnetz-5g'}, {'rel': <RelType.ROOT: 'root'>, 'href': 'https://data.geo.admin.ch/api/stac/v0.9/', 'type': <MediaType.JSON: 'application/json'>, 'title': 'data.geo.admin.ch'}, {'rel': 'parent', 'href': 'https://data.geo.admin.ch/api/stac/v0.9/collections/ch.bakom.mobilnetz-5g'}, {'rel': 'collection', 'href': 'https://data.geo.admin.ch/api/stac/v0.9/collections/ch.bakom.mobilnetz-5g'}, {'rel': 'alternate', 'href': 'https://data.geo.admin.ch/browser/index.html#/collections/ch.bakom.mobilnetz-5g/items/mobilnetz-5g', 'type': 'text/html', 'title': 'STAC Browser'}], 'assets': {'mobilnetz-5g_2056.tif.zip': {'href': 'https://data.geo.admin.ch/ch.bakom.mobilnetz-5g/mobilnetz-5g/mobilnetz-5g_2056.tif.zip', 'type': 'application/x.geotiff+zip', 'created': '2022-07-20T08:24:15.190102Z', 'updated': '2023-06-01T16:12:40.259468Z', 'proj:epsg': 2056, 'checksum:multihash': '12200956a440b31324ede19cd4b7cbc11c178bc74c4a82a2f807d81ec06b13a68357'}}, 'bbox': [5.96, 45.82, 10.49, 47.81], 'stac_extensions': [], 'collection': 'ch.bakom.mobilnetz-5g'}\n"
     ]
    }
   ],
   "source": [
    "collection = catalog.get_collection(\"ch.bakom.mobilnetz-5g\")\n",
    "items = collection.get_items()\n",
    "for item in items:\n",
    "    print(item.to_dict())"
   ]
  },
  {
   "cell_type": "code",
   "execution_count": 11,
   "id": "718559ba-6126-448c-b2de-826fb571e819",
   "metadata": {},
   "outputs": [
    {
     "data": {
      "text/html": [
       "<div>\n",
       "<style scoped>\n",
       "    .dataframe tbody tr th:only-of-type {\n",
       "        vertical-align: middle;\n",
       "    }\n",
       "\n",
       "    .dataframe tbody tr th {\n",
       "        vertical-align: top;\n",
       "    }\n",
       "\n",
       "    .dataframe thead th {\n",
       "        text-align: right;\n",
       "    }\n",
       "</style>\n",
       "<table border=\"1\" class=\"dataframe\">\n",
       "  <thead>\n",
       "    <tr style=\"text-align: right;\">\n",
       "      <th></th>\n",
       "      <th>type</th>\n",
       "      <th>stac_version</th>\n",
       "      <th>id</th>\n",
       "      <th>properties</th>\n",
       "      <th>geometry</th>\n",
       "      <th>links</th>\n",
       "      <th>assets</th>\n",
       "      <th>bbox</th>\n",
       "      <th>stac_extensions</th>\n",
       "      <th>collection</th>\n",
       "    </tr>\n",
       "  </thead>\n",
       "  <tbody>\n",
       "    <tr>\n",
       "      <th>0</th>\n",
       "      <td>Feature</td>\n",
       "      <td>1.0.0</td>\n",
       "      <td>mobilnetz-5g</td>\n",
       "      <td>{'datetime': '2023-04-30T00:00:00Z', 'title': ...</td>\n",
       "      <td>{'type': 'Polygon', 'coordinates': [[[5.96, 45...</td>\n",
       "      <td>[{'rel': 'self', 'href': 'https://data.geo.adm...</td>\n",
       "      <td>{'mobilnetz-5g_2056.tif.zip': {'href': 'https:...</td>\n",
       "      <td>[5.96, 45.82, 10.49, 47.81]</td>\n",
       "      <td>[]</td>\n",
       "      <td>ch.bakom.mobilnetz-5g</td>\n",
       "    </tr>\n",
       "  </tbody>\n",
       "</table>\n",
       "</div>"
      ],
      "text/plain": [
       "      type stac_version            id  \\\n",
       "0  Feature        1.0.0  mobilnetz-5g   \n",
       "\n",
       "                                          properties  \\\n",
       "0  {'datetime': '2023-04-30T00:00:00Z', 'title': ...   \n",
       "\n",
       "                                            geometry  \\\n",
       "0  {'type': 'Polygon', 'coordinates': [[[5.96, 45...   \n",
       "\n",
       "                                               links  \\\n",
       "0  [{'rel': 'self', 'href': 'https://data.geo.adm...   \n",
       "\n",
       "                                              assets  \\\n",
       "0  {'mobilnetz-5g_2056.tif.zip': {'href': 'https:...   \n",
       "\n",
       "                          bbox stac_extensions             collection  \n",
       "0  [5.96, 45.82, 10.49, 47.81]              []  ch.bakom.mobilnetz-5g  "
      ]
     },
     "execution_count": 11,
     "metadata": {},
     "output_type": "execute_result"
    }
   ],
   "source": [
    "collection = catalog.get_collection(\"ch.bakom.mobilnetz-5g\")\n",
    "\n",
    "d1 = []\n",
    "\n",
    "items = collection.get_items()\n",
    "for item in items:\n",
    "    d1.append(item.to_dict())\n",
    "    \n",
    "df = pd.DataFrame(d1)\n",
    "df.head()"
   ]
  },
  {
   "cell_type": "code",
   "execution_count": 12,
   "id": "12f96c75-653b-4926-800f-9363df065408",
   "metadata": {},
   "outputs": [
    {
     "data": {
      "text/html": [
       "<div>\n",
       "<style scoped>\n",
       "    .dataframe tbody tr th:only-of-type {\n",
       "        vertical-align: middle;\n",
       "    }\n",
       "\n",
       "    .dataframe tbody tr th {\n",
       "        vertical-align: top;\n",
       "    }\n",
       "\n",
       "    .dataframe thead th {\n",
       "        text-align: right;\n",
       "    }\n",
       "</style>\n",
       "<table border=\"1\" class=\"dataframe\">\n",
       "  <thead>\n",
       "    <tr style=\"text-align: right;\">\n",
       "      <th></th>\n",
       "      <th>type</th>\n",
       "      <th>stac_version</th>\n",
       "      <th>id</th>\n",
       "      <th>properties</th>\n",
       "      <th>geometry</th>\n",
       "      <th>links</th>\n",
       "      <th>assets</th>\n",
       "      <th>bbox</th>\n",
       "      <th>stac_extensions</th>\n",
       "      <th>collection</th>\n",
       "    </tr>\n",
       "  </thead>\n",
       "  <tbody>\n",
       "    <tr>\n",
       "      <th>0</th>\n",
       "      <td>Feature</td>\n",
       "      <td>1.0.0</td>\n",
       "      <td>mobilnetz-5g</td>\n",
       "      <td>{'datetime': '2023-04-30T00:00:00Z', 'title': ...</td>\n",
       "      <td>POLYGON ((5.96000 45.82000, 5.96000 47.81000, ...</td>\n",
       "      <td>[{'rel': 'self', 'href': 'https://data.geo.adm...</td>\n",
       "      <td>{'mobilnetz-5g_2056.tif.zip': {'href': 'https:...</td>\n",
       "      <td>[5.96, 45.82, 10.49, 47.81]</td>\n",
       "      <td>[]</td>\n",
       "      <td>ch.bakom.mobilnetz-5g</td>\n",
       "    </tr>\n",
       "  </tbody>\n",
       "</table>\n",
       "</div>"
      ],
      "text/plain": [
       "      type stac_version            id  \\\n",
       "0  Feature        1.0.0  mobilnetz-5g   \n",
       "\n",
       "                                          properties  \\\n",
       "0  {'datetime': '2023-04-30T00:00:00Z', 'title': ...   \n",
       "\n",
       "                                            geometry  \\\n",
       "0  POLYGON ((5.96000 45.82000, 5.96000 47.81000, ...   \n",
       "\n",
       "                                               links  \\\n",
       "0  [{'rel': 'self', 'href': 'https://data.geo.adm...   \n",
       "\n",
       "                                              assets  \\\n",
       "0  {'mobilnetz-5g_2056.tif.zip': {'href': 'https:...   \n",
       "\n",
       "                          bbox stac_extensions             collection  \n",
       "0  [5.96, 45.82, 10.49, 47.81]              []  ch.bakom.mobilnetz-5g  "
      ]
     },
     "execution_count": 12,
     "metadata": {},
     "output_type": "execute_result"
    }
   ],
   "source": [
    "from shapely.geometry import shape\n",
    "\n",
    "d2 = []\n",
    "\n",
    "items = collection.get_items()\n",
    "for item in items:\n",
    "    cur_dict = item.to_dict()\n",
    "    cur_dict[\"geometry\"] = shape(cur_dict[\"geometry\"]) # Convert geometry to shapely geometry\n",
    "    d2.append(cur_dict)\n",
    "    \n",
    "df = gpd.GeoDataFrame(d2)\n",
    "df.head()"
   ]
  },
  {
   "attachments": {},
   "cell_type": "markdown",
   "id": "171d9cfc-f541-40f4-a016-62a3b6ef1a9e",
   "metadata": {},
   "source": [
    "Dataframes are not really that great to display the data. Another approach which works in Jupyter Lab only is to use IPython.display:"
   ]
  },
  {
   "cell_type": "code",
   "execution_count": 13,
   "id": "71d027fc-c294-438d-b873-c258b10d2e17",
   "metadata": {},
   "outputs": [
    {
     "data": {
      "application/json": "",
      "text/plain": [
       "<IPython.core.display.JSON object>"
      ]
     },
     "execution_count": 13,
     "metadata": {
      "application/json": {
       "expanded": false,
       "root": "root"
      }
     },
     "output_type": "execute_result"
    }
   ],
   "source": [
    "IPython.display.JSON([k for k in d1])"
   ]
  },
  {
   "cell_type": "code",
   "execution_count": 12,
   "id": "4498351a-211a-4933-80a5-44d9377958e0",
   "metadata": {},
   "outputs": [
    {
     "ename": "ImportError",
     "evalue": "cannot import name 'unzip' from 'geoutils' (d:\\4040.1_Geoprogrammierung\\GP2\\Lektion8\\geoutils.py)",
     "output_type": "error",
     "traceback": [
      "\u001b[1;31m---------------------------------------------------------------------------\u001b[0m",
      "\u001b[1;31mImportError\u001b[0m                               Traceback (most recent call last)",
      "Cell \u001b[1;32mIn[12], line 1\u001b[0m\n\u001b[1;32m----> 1\u001b[0m \u001b[39mfrom\u001b[39;00m \u001b[39mgeoutils\u001b[39;00m \u001b[39mimport\u001b[39;00m download, unzip\n\u001b[0;32m      2\u001b[0m \u001b[39mfrom\u001b[39;00m \u001b[39mos\u001b[39;00m\u001b[39m.\u001b[39;00m\u001b[39mpath\u001b[39;00m \u001b[39mimport\u001b[39;00m basename\n\u001b[0;32m      4\u001b[0m items \u001b[39m=\u001b[39m collection\u001b[39m.\u001b[39mget_items()\n",
      "\u001b[1;31mImportError\u001b[0m: cannot import name 'unzip' from 'geoutils' (d:\\4040.1_Geoprogrammierung\\GP2\\Lektion8\\geoutils.py)"
     ]
    }
   ],
   "source": [
    "from geoutils import download, unzip\n",
    "from os.path import basename\n",
    "\n",
    "items = collection.get_items()\n",
    "for itm in items:\n",
    "    d = itm.to_dict()\n",
    "    \n",
    "    properties = d[\"properties\"]\n",
    "    print(properties[\"title\"], \"-\"*5, properties[\"updated\"])\n",
    "    \n",
    "    for key in (d[\"assets\"]):\n",
    "        asset = d[\"assets\"][key]\n",
    "        \n",
    "        url = asset[\"href\"]\n",
    "        filename = \"geodata/\" + basename(url)\n",
    "        download(url, filename)\n",
    "        unzip(filename, \"geodata/\")"
   ]
  },
  {
   "cell_type": "code",
   "execution_count": 13,
   "id": "f03af2c5-2769-4dcd-869c-2133ca6c7ca4",
   "metadata": {},
   "outputs": [
    {
     "ename": "RasterioIOError",
     "evalue": "geodata/tech5gop.tif: No such file or directory",
     "output_type": "error",
     "traceback": [
      "\u001b[1;31m---------------------------------------------------------------------------\u001b[0m",
      "\u001b[1;31mCPLE_OpenFailedError\u001b[0m                      Traceback (most recent call last)",
      "File \u001b[1;32mrasterio\\_base.pyx:261\u001b[0m, in \u001b[0;36mrasterio._base.DatasetBase.__init__\u001b[1;34m()\u001b[0m\n",
      "File \u001b[1;32mrasterio\\_shim.pyx:78\u001b[0m, in \u001b[0;36mrasterio._shim.open_dataset\u001b[1;34m()\u001b[0m\n",
      "File \u001b[1;32mrasterio\\_err.pyx:216\u001b[0m, in \u001b[0;36mrasterio._err.exc_wrap_pointer\u001b[1;34m()\u001b[0m\n",
      "\u001b[1;31mCPLE_OpenFailedError\u001b[0m: geodata/tech5gop.tif: No such file or directory",
      "\nDuring handling of the above exception, another exception occurred:\n",
      "\u001b[1;31mRasterioIOError\u001b[0m                           Traceback (most recent call last)",
      "Cell \u001b[1;32mIn[13], line 6\u001b[0m\n\u001b[0;32m      2\u001b[0m \u001b[39mfrom\u001b[39;00m \u001b[39mrasterio\u001b[39;00m\u001b[39m.\u001b[39;00m\u001b[39mplot\u001b[39;00m \u001b[39mimport\u001b[39;00m show\n\u001b[0;32m      4\u001b[0m filename \u001b[39m=\u001b[39m \u001b[39m\"\u001b[39m\u001b[39mgeodata/tech5gop.tif\u001b[39m\u001b[39m\"\u001b[39m\n\u001b[1;32m----> 6\u001b[0m \u001b[39mwith\u001b[39;00m rasterio\u001b[39m.\u001b[39;49mopen(filename) \u001b[39mas\u001b[39;00m src:\n\u001b[0;32m      7\u001b[0m     raster_data \u001b[39m=\u001b[39m src\u001b[39m.\u001b[39mread(\u001b[39m1\u001b[39m)  \n\u001b[0;32m      8\u001b[0m     show(raster_data, cmap\u001b[39m=\u001b[39m\u001b[39m\"\u001b[39m\u001b[39mhot\u001b[39m\u001b[39m\"\u001b[39m)\n",
      "File \u001b[1;32mc:\\Users\\fruef\\anaconda3\\envs\\geopython38\\lib\\site-packages\\rasterio\\env.py:437\u001b[0m, in \u001b[0;36mensure_env_with_credentials.<locals>.wrapper\u001b[1;34m(*args, **kwds)\u001b[0m\n\u001b[0;32m    434\u001b[0m     session \u001b[39m=\u001b[39m DummySession()\n\u001b[0;32m    436\u001b[0m \u001b[39mwith\u001b[39;00m env_ctor(session\u001b[39m=\u001b[39msession):\n\u001b[1;32m--> 437\u001b[0m     \u001b[39mreturn\u001b[39;00m f(\u001b[39m*\u001b[39;49margs, \u001b[39m*\u001b[39;49m\u001b[39m*\u001b[39;49mkwds)\n",
      "File \u001b[1;32mc:\\Users\\fruef\\anaconda3\\envs\\geopython38\\lib\\site-packages\\rasterio\\__init__.py:220\u001b[0m, in \u001b[0;36mopen\u001b[1;34m(fp, mode, driver, width, height, count, crs, transform, dtype, nodata, sharing, **kwargs)\u001b[0m\n\u001b[0;32m    216\u001b[0m \u001b[39m# Create dataset instances and pass the given env, which will\u001b[39;00m\n\u001b[0;32m    217\u001b[0m \u001b[39m# be taken over by the dataset's context manager if it is not\u001b[39;00m\n\u001b[0;32m    218\u001b[0m \u001b[39m# None.\u001b[39;00m\n\u001b[0;32m    219\u001b[0m \u001b[39mif\u001b[39;00m mode \u001b[39m==\u001b[39m \u001b[39m'\u001b[39m\u001b[39mr\u001b[39m\u001b[39m'\u001b[39m:\n\u001b[1;32m--> 220\u001b[0m     s \u001b[39m=\u001b[39m DatasetReader(path, driver\u001b[39m=\u001b[39;49mdriver, sharing\u001b[39m=\u001b[39;49msharing, \u001b[39m*\u001b[39;49m\u001b[39m*\u001b[39;49mkwargs)\n\u001b[0;32m    221\u001b[0m \u001b[39melif\u001b[39;00m mode \u001b[39m==\u001b[39m \u001b[39m\"\u001b[39m\u001b[39mr+\u001b[39m\u001b[39m\"\u001b[39m:\n\u001b[0;32m    222\u001b[0m     s \u001b[39m=\u001b[39m get_writer_for_path(path, driver\u001b[39m=\u001b[39mdriver)(\n\u001b[0;32m    223\u001b[0m         path, mode, driver\u001b[39m=\u001b[39mdriver, sharing\u001b[39m=\u001b[39msharing, \u001b[39m*\u001b[39m\u001b[39m*\u001b[39mkwargs\n\u001b[0;32m    224\u001b[0m     )\n",
      "File \u001b[1;32mrasterio\\_base.pyx:263\u001b[0m, in \u001b[0;36mrasterio._base.DatasetBase.__init__\u001b[1;34m()\u001b[0m\n",
      "\u001b[1;31mRasterioIOError\u001b[0m: geodata/tech5gop.tif: No such file or directory"
     ]
    }
   ],
   "source": [
    "import rasterio\n",
    "from rasterio.plot import show\n",
    "\n",
    "filename = \"geodata/tech5gop.tif\"\n",
    "\n",
    "with rasterio.open(filename) as src:\n",
    "    raster_data = src.read(1)  \n",
    "    show(raster_data, cmap=\"hot\")"
   ]
  },
  {
   "attachments": {},
   "cell_type": "markdown",
   "id": "a44f15a6-ab51-4d0d-b762-dfa0336886ba",
   "metadata": {},
   "source": [
    "## ch.swisstopo.pixelkarte-farbe-pk100.noscale\n",
    "\n",
    "https://www.swisstopo.admin.ch/en/geodata/maps/smr/smr100.html\n",
    "\n",
    "\n",
    "\n"
   ]
  },
  {
   "cell_type": "code",
   "execution_count": null,
   "id": "2d33cc31-8dad-45c7-be00-4ea65cd4b4b4",
   "metadata": {},
   "outputs": [],
   "source": [
    "collection = catalog.get_collection(\"ch.swisstopo.pixelkarte-farbe-pk100.noscale\")\n",
    "items = collection.get_items()\n",
    "\n",
    "data = []\n",
    "\n",
    "for item in items:\n",
    "    data.append(item.to_dict())\n",
    "    \n",
    "IPython.display.JSON([x for x in data])"
   ]
  },
  {
   "attachments": {},
   "cell_type": "markdown",
   "id": "9f2209e1-50a1-4820-8b82-9247dd5b92ba",
   "metadata": {},
   "source": [
    "Let's display the Bounding Boxes"
   ]
  },
  {
   "cell_type": "code",
   "execution_count": null,
   "id": "b91c2d04-52d8-46c0-b070-6bbb8b136f21",
   "metadata": {},
   "outputs": [],
   "source": [
    "collection = catalog.get_collection(\"ch.swisstopo.pixelkarte-farbe-pk100.noscale\")\n",
    "items = collection.get_items()\n",
    "\n",
    "data = []\n",
    "\n",
    "for item in items:\n",
    "    itemd = item.to_dict()\n",
    "    itemd[\"geometry\"] = shape(itemd[\"geometry\"])\n",
    "    data.append(itemd)\n",
    "    \n",
    "gdf = gpd.GeoDataFrame(data)\n",
    "gdf.plot()\n"
   ]
  },
  {
   "cell_type": "code",
   "execution_count": null,
   "id": "ac532cf4-9cd2-45db-9ded-d928d5272ac1",
   "metadata": {},
   "outputs": [],
   "source": [
    "gdfCountries = gpd.read_file(\"geodata/packages/natural_earth_vector.gpkg\", \n",
    "                              layer=\"ne_10m_admin_0_countries\", \n",
    "                              encoding=\"utf-8\")\n",
    "\n",
    "switzerland = gdfCountries.query(\"NAME == 'Switzerland'\")\n",
    "switzerland.to_file(\"geodata/switzerland.gpkg\") # store it, we will use that later"
   ]
  },
  {
   "cell_type": "code",
   "execution_count": null,
   "id": "d9f72862-92ca-45d4-a10c-6e990348764c",
   "metadata": {},
   "outputs": [],
   "source": [
    "ax = switzerland.plot(figsize=(16,9), facecolor=\"#BBFFBB\", edgecolor=\"#000000\")\n",
    "gdf.plot(ax=ax, edgecolor=\"black\", color=\"#005500\", alpha=0.3);"
   ]
  },
  {
   "attachments": {},
   "cell_type": "markdown",
   "id": "a5fe01dc-d330-4115-a310-09d63eeb05cc",
   "metadata": {},
   "source": [
    "It is important to understand that in each bounding box we can have **n** assets. \n",
    "\n",
    "Assets could have different resolutions, file formats, variants, dates etc."
   ]
  },
  {
   "attachments": {},
   "cell_type": "markdown",
   "id": "e17ef370-661f-4b26-9a9f-6a60c717c61b",
   "metadata": {},
   "source": [
    "Show the assets of the first item:"
   ]
  },
  {
   "cell_type": "code",
   "execution_count": null,
   "id": "2d4b89e5-f7a9-4b8c-9a07-3625c059fc70",
   "metadata": {},
   "outputs": [],
   "source": [
    "d = data[0]['assets']\n",
    "d"
   ]
  },
  {
   "cell_type": "code",
   "execution_count": null,
   "id": "7d54e687-bec1-4bdb-963a-9d658ee1d1fb",
   "metadata": {},
   "outputs": [],
   "source": [
    "for key in (d):\n",
    "    asset = d[key]\n",
    "    print(asset.keys())"
   ]
  },
  {
   "cell_type": "code",
   "execution_count": null,
   "id": "9367e238-fbd8-48e4-ace0-7d1c44185531",
   "metadata": {},
   "outputs": [],
   "source": []
  },
  {
   "cell_type": "code",
   "execution_count": null,
   "id": "01223212-6c50-443a-ba69-2b3280f22c15",
   "metadata": {},
   "outputs": [],
   "source": [
    "variants = set()\n",
    "\n",
    "for d in data:\n",
    "    for key in (d[\"assets\"]):\n",
    "        asset = d[\"assets\"][key]\n",
    "        variants.add(asset[\"geoadmin:variant\"])\n",
    "                              \n",
    "print(variants)"
   ]
  },
  {
   "cell_type": "code",
   "execution_count": null,
   "id": "fec5989b-e818-467f-a162-19e4882317a6",
   "metadata": {},
   "outputs": [],
   "source": [
    "assets_komb = []\n",
    "for d in data:\n",
    "    for key in (d[\"assets\"]):\n",
    "        asset = d[\"assets\"][key]\n",
    "        if asset[\"geoadmin:variant\"] == \"komb\":\n",
    "            assets_komb.append(asset[\"href\"])\n",
    "            \n",
    "print(len(assets_komb), assets_komb)"
   ]
  },
  {
   "attachments": {},
   "cell_type": "markdown",
   "id": "f9523007-f6d3-42b5-b5be-26f15be30a76",
   "metadata": {},
   "source": [
    "Now we could download all urls..."
   ]
  },
  {
   "attachments": {},
   "cell_type": "markdown",
   "id": "4d048400-61e3-4499-9e48-b6902d02403e",
   "metadata": {},
   "source": [
    "## ch.swisstopo.swissimage-dop10\n",
    "\n",
    "https://www.swisstopo.admin.ch/en/geodata/images/ortho/swissimage10.html\n",
    "\n",
    "This is a Digital Orthophoto (DOP) of Switzerland. Digital Orthophotos are aerial or satellite images that have been **geometrically corrected** to remove distortions caused by terrain and camera angle. \n",
    "\n",
    "The \"dop10\" indicates that the dataset has a ground resolution of **10 square centimeters per pixel**, meaning that each pixel in the orthophoto represents an area of 10 squre centimeters on the ground."
   ]
  },
  {
   "cell_type": "code",
   "execution_count": null,
   "id": "3e0a1798-4266-495f-9c4c-6effe3032a4d",
   "metadata": {},
   "outputs": [],
   "source": [
    "collection = catalog.get_collection(\"ch.swisstopo.swissimage-dop10\")"
   ]
  },
  {
   "cell_type": "code",
   "execution_count": null,
   "id": "8e59c55f-956f-4c57-b0d8-37a2590b986f",
   "metadata": {},
   "outputs": [],
   "source": [
    "items = collection.get_items()"
   ]
  },
  {
   "cell_type": "code",
   "execution_count": null,
   "id": "833d2132-e062-4ed4-b81c-e1e911a5ed92",
   "metadata": {},
   "outputs": [],
   "source": [
    "# Get the first 10 items\n",
    "for i, item in enumerate(items):\n",
    "        print(f\"{i}: {item.id}\", flush=True)\n",
    "        if i == 9:\n",
    "            break"
   ]
  },
  {
   "attachments": {},
   "cell_type": "markdown",
   "id": "ac51c245-b850-47ba-afff-5dc07583ce2e",
   "metadata": {},
   "source": [
    "## Spatial Queries"
   ]
  },
  {
   "attachments": {},
   "cell_type": "markdown",
   "id": "d4422ef2-ec8e-462e-b58e-b44fd97d7ea4",
   "metadata": {},
   "source": [
    "### Get Items containing a Point:"
   ]
  },
  {
   "cell_type": "code",
   "execution_count": null,
   "id": "0503f08e-8924-4de6-870b-8c7c07569055",
   "metadata": {},
   "outputs": [],
   "source": [
    "from shapely.geometry import Point\n",
    "\n",
    "\n",
    "# Define the point geometry\n",
    "lon = 7.588749317607721\n",
    "lat = 47.54839134266942\n",
    "point = Point(lon, lat)\n",
    "\n",
    "\n",
    "search = catalog.search(\n",
    "    max_items = 15,\n",
    "    limit = 100, # Items per page\n",
    "    collections = \"ch.swisstopo.swissimage-dop10\",\n",
    "    intersects = point,\n",
    ")\n",
    "\n",
    "items = list(search.items())\n",
    "\n",
    "len(items)\n",
    "\n"
   ]
  },
  {
   "cell_type": "code",
   "execution_count": null,
   "id": "6c79af07-0cb2-4b40-bdff-047adaf198c5",
   "metadata": {},
   "outputs": [],
   "source": [
    "from shapely.geometry import Point"
   ]
  },
  {
   "cell_type": "code",
   "execution_count": null,
   "id": "442fc3a1-362c-405f-b8ac-63de8a4c0d9b",
   "metadata": {},
   "outputs": [],
   "source": [
    "# Define the point geometry\n",
    "lon = 7.588749317607721\n",
    "lat = 47.54839134266942\n",
    "point = Point(lon, lat)"
   ]
  },
  {
   "cell_type": "code",
   "execution_count": null,
   "id": "5c882820-2363-4976-8e55-e80a8358bd9c",
   "metadata": {},
   "outputs": [],
   "source": [
    "search = catalog.search(\n",
    "    max_items = 15,\n",
    "    limit = 100, # Items per page\n",
    "    collections = \"ch.swisstopo.swissimage-dop10\",\n",
    "    intersects = point,\n",
    ")\n",
    "\n",
    "items = list(search.items())\n",
    "\n",
    "len(items)"
   ]
  },
  {
   "cell_type": "code",
   "execution_count": null,
   "id": "d740c635-7c36-4821-be71-6690a4f34690",
   "metadata": {},
   "outputs": [],
   "source": [
    "IPython.display.JSON([i.to_dict() for i in items])"
   ]
  },
  {
   "attachments": {},
   "cell_type": "markdown",
   "id": "d2d2454c-4f56-4661-b105-92e3ffa5d8f6",
   "metadata": {},
   "source": [
    "### Get Items intersecting a Polygon"
   ]
  },
  {
   "cell_type": "code",
   "execution_count": null,
   "id": "0b856fb2-cc75-4822-978d-ce0a09da9e73",
   "metadata": {},
   "outputs": [],
   "source": [
    "from shapely.geometry import Polygon"
   ]
  },
  {
   "cell_type": "code",
   "execution_count": null,
   "id": "5ba1a601-fad1-4e2b-b663-67952e61efe4",
   "metadata": {},
   "outputs": [],
   "source": [
    "geom = Polygon([[7.57882405240548,47.55265066727222],\n",
    "                [7.57882405240548,47.54334390786235],\n",
    "                [7.606018775636585,47.54334390786235],\n",
    "                [7.606018775636585,47.55265066727222],\n",
    "                [7.57882405240548,47.55265066727222]])\n",
    "\n",
    "\n",
    "search = catalog.search(\n",
    "    max_items = 15,\n",
    "    limit = 5,\n",
    "    collections = \"ch.swisstopo.swissimage-dop10\",\n",
    "    intersects = geom,\n",
    ")\n",
    "\n",
    "items = list(search.items())\n",
    "\n",
    "len(items)"
   ]
  },
  {
   "cell_type": "code",
   "execution_count": null,
   "id": "ac0dae80-c5ad-482e-9066-3f5aff827461",
   "metadata": {},
   "outputs": [],
   "source": [
    "IPython.display.JSON([i.to_dict() for i in items])"
   ]
  },
  {
   "attachments": {},
   "cell_type": "markdown",
   "id": "c729c36c-8457-4d74-a4a5-6d59148cf147",
   "metadata": {},
   "source": [
    "### Get Items intersecting a Geometry given as GeoJSON\n",
    "\n",
    "(basically same as above, we use a polygon)"
   ]
  },
  {
   "cell_type": "code",
   "execution_count": null,
   "id": "e8afaa10-c762-4c01-8da9-4846e970cf96",
   "metadata": {},
   "outputs": [],
   "source": [
    "from shapely.geometry import shape\n",
    "\n",
    "geom_geojson = { \"geometry\": {\n",
    "                     \"coordinates\":[[[7.57882405240548,47.55265066727222],\n",
    "                                     [7.57882405240548,47.54334390786235],\n",
    "                                     [7.606018775636585,47.54334390786235],\n",
    "                                     [7.606018775636585,47.55265066727222],\n",
    "                                     [7.57882405240548,47.55265066727222]]],\n",
    "                    \"type\":\"Polygon\"}\n",
    "                }\n",
    "\n",
    "\n",
    "geom = shape(geom_geojson[\"geometry\"])\n",
    "\n",
    "search = catalog.search(\n",
    "    max_items = 15,\n",
    "    limit = 5,\n",
    "    collections = \"ch.swisstopo.swissimage-dop10\",\n",
    "    intersects = geom,\n",
    ")\n",
    "\n",
    "items = list(search.items())\n"
   ]
  },
  {
   "cell_type": "code",
   "execution_count": null,
   "id": "7648d446-a157-45ee-aeb2-3e8509187793",
   "metadata": {},
   "outputs": [],
   "source": [
    "IPython.display.JSON([i.to_dict() for i in items])"
   ]
  },
  {
   "cell_type": "code",
   "execution_count": null,
   "id": "7f8483d9-eb31-4419-90a3-78e7a4cd53d8",
   "metadata": {},
   "outputs": [],
   "source": [
    "for itm in items:\n",
    "    d = itm.to_dict()\n",
    "    for key in (d[\"assets\"]):\n",
    "        asset = d[\"assets\"][key]\n",
    "        if asset[\"eo:gsd\"] == 0.1 and asset[\"type\"] == \"image/tiff; application=geotiff; profile=cloud-optimized\":\n",
    "            print(asset[\"href\"])"
   ]
  },
  {
   "cell_type": "code",
   "execution_count": null,
   "id": "b4062644-9f8c-4a02-b0bd-38a68d307f55",
   "metadata": {},
   "outputs": [],
   "source": []
  },
  {
   "cell_type": "code",
   "execution_count": null,
   "id": "aeef867c-e573-45bb-a720-4c4dbc6ed5bd",
   "metadata": {},
   "outputs": [],
   "source": [
    "for itm in items:\n",
    "    d = itm.to_dict()\n",
    "    \n",
    "    props = d[\"properties\"]\n",
    "    date = props[\"datetime\"]\n",
    "    date_obj = datetime.strptime(date, \"%Y-%m-%dT%H:%M:%SZ\").date()\n",
    "    \n",
    "    if date_obj.year == 2021:\n",
    "        for key in (d[\"assets\"]):\n",
    "            asset = d[\"assets\"][key]\n",
    "            if asset[\"eo:gsd\"] == 0.1 and asset[\"type\"] == \"image/tiff; application=geotiff; profile=cloud-optimized\":\n",
    "                print(asset[\"href\"])\n",
    "                \n",
    "            "
   ]
  },
  {
   "attachments": {},
   "cell_type": "markdown",
   "id": "47fbd11b-e9af-47e0-8d9d-45b005386a84",
   "metadata": {},
   "source": [
    "We could also create a dictionary per year and add links to it:"
   ]
  },
  {
   "cell_type": "code",
   "execution_count": null,
   "id": "bb92dfa4-feb3-4be7-b9af-43510342f8bf",
   "metadata": {},
   "outputs": [],
   "source": [
    "links = {}\n",
    "\n",
    "\n",
    "for itm in items:\n",
    "    d = itm.to_dict()\n",
    "    \n",
    "    props = d[\"properties\"]\n",
    "    date = props[\"datetime\"]\n",
    "    date_obj = datetime.strptime(date, \"%Y-%m-%dT%H:%M:%SZ\").date()\n",
    "    year = date_obj.year\n",
    "    \n",
    "    for key in (d[\"assets\"]):\n",
    "        asset = d[\"assets\"][key]\n",
    "        if asset[\"eo:gsd\"] == 0.1 and asset[\"type\"] == \"image/tiff; application=geotiff; profile=cloud-optimized\":\n",
    "            if not year in links:\n",
    "                links[year] = []\n",
    "            links[year].append(asset[\"href\"])\n",
    "            \n",
    "print(links)\n",
    "    "
   ]
  },
  {
   "attachments": {},
   "cell_type": "markdown",
   "id": "9f2d2937-8f74-457f-b2de-ef30936ae3d4",
   "metadata": {},
   "source": [
    "To get the max (current) data link we can use `max` on the dict. However in reality this is not as simple as there could be missing items in the \"current\" year..."
   ]
  },
  {
   "cell_type": "code",
   "execution_count": null,
   "id": "438aece9-5c3a-4ab9-a3f5-178c6f4a2ec2",
   "metadata": {},
   "outputs": [],
   "source": [
    "current = max(links)\n",
    "print(current)\n",
    "\n",
    "links[current]"
   ]
  },
  {
   "attachments": {},
   "cell_type": "markdown",
   "id": "1f825543-2fcd-4932-8018-e7c08a30771a",
   "metadata": {},
   "source": [
    "## Retrieving the whole dataset"
   ]
  },
  {
   "cell_type": "code",
   "execution_count": null,
   "id": "b8e3a0d4-0d2b-42bd-bfc5-5036767c5c82",
   "metadata": {},
   "outputs": [],
   "source": [
    "%%time\n",
    "\n",
    "search = catalog.search(\n",
    "    max_items = 250000,\n",
    "    limit = 100, # Items per page\n",
    "    collections = \"ch.swisstopo.swissimage-dop10\",\n",
    ")\n",
    "\n",
    "items = list(search.items())\n",
    "\n",
    "len(items)"
   ]
  },
  {
   "cell_type": "code",
   "execution_count": null,
   "id": "95f9f06b-5471-45a8-baab-281006a4d6f5",
   "metadata": {},
   "outputs": [],
   "source": [
    "len(items)"
   ]
  },
  {
   "cell_type": "code",
   "execution_count": null,
   "id": "54be7f7d-ac35-4507-b81d-ba6547f0172c",
   "metadata": {},
   "outputs": [],
   "source": [
    "%%time\n",
    "\n",
    "years = []\n",
    "links = []\n",
    "geometry = []\n",
    "\n",
    "for itm in items: \n",
    "    d = itm.to_dict()\n",
    "    \n",
    "    geom = shape(d[\"geometry\"])\n",
    "    \n",
    "    props = d[\"properties\"]\n",
    "    date = props[\"datetime\"]\n",
    "    date_obj = datetime.strptime(date, \"%Y-%m-%dT%H:%M:%SZ\").date()\n",
    "    year = date_obj.year\n",
    "    \n",
    "    for key in (d[\"assets\"]):\n",
    "        asset = d[\"assets\"][key]\n",
    "        if asset[\"eo:gsd\"] == 0.1 and asset[\"type\"] == \"image/tiff; application=geotiff; profile=cloud-optimized\":\n",
    "            years.append(year)\n",
    "            links.append(asset[\"href\"])\n",
    "            geometry.append(geom)    "
   ]
  },
  {
   "cell_type": "code",
   "execution_count": null,
   "id": "33287080-a8d6-4497-96b2-676abc65cd3d",
   "metadata": {},
   "outputs": [],
   "source": [
    "data = { \n",
    "    'year': years,\n",
    "    'link': links,\n",
    "    'geometry': geometry }\n",
    "\n",
    "gdf = gpd.GeoDataFrame(data)"
   ]
  },
  {
   "cell_type": "code",
   "execution_count": null,
   "id": "07e87f88-164d-472d-9713-8fc010bd45b1",
   "metadata": {},
   "outputs": [],
   "source": [
    "gdf.head(10)"
   ]
  },
  {
   "cell_type": "code",
   "execution_count": null,
   "id": "60980074-6cc9-4368-8fc0-632e13a0510f",
   "metadata": {},
   "outputs": [],
   "source": [
    "gdf[\"year\"].unique()"
   ]
  },
  {
   "cell_type": "code",
   "execution_count": null,
   "id": "df7c7dca-8e10-49e9-a615-345192483326",
   "metadata": {},
   "outputs": [],
   "source": [
    "gdf.to_file(\"geodata/swissimage.gpkg\", layer='swissimage-all', driver=\"GPKG\")"
   ]
  },
  {
   "attachments": {},
   "cell_type": "markdown",
   "id": "e6a5a56a-1ec0-4fa7-b280-ff0e029baa46",
   "metadata": {},
   "source": [
    "also create layer per year (automatically appended)"
   ]
  },
  {
   "cell_type": "code",
   "execution_count": null,
   "id": "54a48a47-5d2b-4d89-8939-d5784ff24915",
   "metadata": {},
   "outputs": [],
   "source": [
    "gdf.query(\"year == 2018\").to_file(\"geodata/swissimage.gpkg\", layer='swissimage-2018', driver=\"GPKG\")\n",
    "gdf.query(\"year == 2019\").to_file(\"geodata/swissimage.gpkg\", layer='swissimage-2019', driver=\"GPKG\")\n",
    "gdf.query(\"year == 2020\").to_file(\"geodata/swissimage.gpkg\", layer='swissimage-2020', driver=\"GPKG\")\n",
    "gdf.query(\"year == 2021\").to_file(\"geodata/swissimage.gpkg\", layer='swissimage-2021', driver=\"GPKG\")\n",
    "gdf.query(\"year == 2022\").to_file(\"geodata/swissimage.gpkg\", layer='swissimage-2022', driver=\"GPKG\")"
   ]
  },
  {
   "attachments": {},
   "cell_type": "markdown",
   "id": "e5113f69-3fc3-4288-ada8-ed20ac40ec6a",
   "metadata": {},
   "source": [
    "If we look at the data we see there are geometric duplicates. What we really want is the latest version of each tile..."
   ]
  },
  {
   "attachments": {},
   "cell_type": "markdown",
   "id": "a678602b-2d7b-4ef2-8420-cc1034c2cf26",
   "metadata": {},
   "source": [
    "We need a slightly other approach if we want to get the latest version of each tile...\n",
    "\n",
    "Approach:<br/>\n",
    "we use the key name, for example: swissimage-dop10_2020_2558-1114_0.1_2056.tif and use the tile number which can be duplicate... we use that as a new key in a new dict and at the end we only use the ones with the highest year...\n",
    "\n",
    "Maybe there is a better approach, but so far I'm unaware of it. (the problem is that the asset creation data is basically wrong)"
   ]
  },
  {
   "cell_type": "code",
   "execution_count": null,
   "id": "0a37d057-6bdd-4ee4-a8cb-4e3a9a9684d5",
   "metadata": {},
   "outputs": [],
   "source": [
    "key = \"swissimage-dop10_2020_2558-1114_0.1_2056.tif\"\n",
    "splt = key.split(\"_\")\n",
    "tile = splt[2]\n",
    "print(tile)"
   ]
  },
  {
   "cell_type": "code",
   "execution_count": null,
   "id": "e9a806db-0072-4ec6-aac8-27f094198547",
   "metadata": {},
   "outputs": [],
   "source": [
    "%%time\n",
    "\n",
    "tiles = {}\n",
    "\n",
    "for itm in items: \n",
    "    d = itm.to_dict()\n",
    "    \n",
    "    geom = shape(d[\"geometry\"])\n",
    "    \n",
    "    props = d[\"properties\"]\n",
    "    date = props[\"datetime\"]\n",
    "    date_obj = datetime.strptime(date, \"%Y-%m-%dT%H:%M:%SZ\").date()\n",
    "    year = date_obj.year\n",
    "    \n",
    "    for key in (d[\"assets\"]):\n",
    "        \n",
    "        asset = d[\"assets\"][key]\n",
    "        if asset[\"eo:gsd\"] == 0.1 and asset[\"type\"] == \"image/tiff; application=geotiff; profile=cloud-optimized\":\n",
    "            splt = key.split(\"_\")\n",
    "            tile = splt[2]\n",
    "            \n",
    "            if not tile in tiles:\n",
    "                tiles[tile] = {\"year\": year, \n",
    "                               \"link\": asset[\"href\"], \n",
    "                               \"geometry\": geom}\n",
    "            else:\n",
    "                if tiles[tile][\"year\"] < year:\n",
    "                    tiles[tile] = {\"year\": year, \"link\": asset[\"href\"], \"geometry\": geom}\n"
   ]
  },
  {
   "cell_type": "code",
   "execution_count": null,
   "id": "b27cfe0d-ef7e-4422-8e3d-26b714229e9c",
   "metadata": {},
   "outputs": [],
   "source": [
    "years = []\n",
    "links = []\n",
    "geometry = []\n",
    "\n",
    "for key in tiles:\n",
    "    years.append(tiles[key][\"year\"])\n",
    "    links.append(tiles[key][\"link\"])\n",
    "    geometry.append(tiles[key][\"geometry\"])"
   ]
  },
  {
   "cell_type": "code",
   "execution_count": null,
   "id": "87387428-bb75-4ec8-bc8c-d9a77862320d",
   "metadata": {},
   "outputs": [],
   "source": [
    "data = { \n",
    "    'year': years,\n",
    "    'link': links,\n",
    "    'geometry': geometry }\n",
    "\n",
    "gdf = gpd.GeoDataFrame(data)"
   ]
  },
  {
   "cell_type": "code",
   "execution_count": null,
   "id": "59a2a1c4-3603-43a4-a9fe-e355e9b4f24f",
   "metadata": {},
   "outputs": [],
   "source": [
    "gdf.head()"
   ]
  },
  {
   "cell_type": "code",
   "execution_count": null,
   "id": "181a2264-8619-469c-b02a-896ba56e808e",
   "metadata": {},
   "outputs": [],
   "source": [
    "gdf.to_file(\"geodata/swissimage_current.gpkg\", layer='swissimage-all', driver=\"GPKG\")\n",
    "\n",
    "gdf2018 = gdf.query(\"year == 2018\")\n",
    "gdf2019 = gdf.query(\"year == 2019\")\n",
    "gdf2020 = gdf.query(\"year == 2020\")\n",
    "gdf2021 = gdf.query(\"year == 2021\")\n",
    "gdf2022 = gdf.query(\"year == 2022\")\n",
    "\n",
    "if len(gdf2018)>0: \n",
    "    gdf2018.to_file(\"geodata/swissimage_current.gpkg\", layer='swissimage-2018', driver=\"GPKG\")\n",
    "else: \n",
    "    print(\"no enties in 2018\")\n",
    "if len(gdf2019)>0: \n",
    "    gdf2019.to_file(\"geodata/swissimage_current.gpkg\", layer='swissimage-2019', driver=\"GPKG\") \n",
    "else: \n",
    "    print(\"no enties in 2019\")\n",
    "if len(gdf2020)>0: \n",
    "    gdf2020.to_file(\"geodata/swissimage_current.gpkg\", layer='swissimage-2020', driver=\"GPKG\")\n",
    "else: \n",
    "    print(\"no enties in 2020\")\n",
    "if len(gdf2021)>0: \n",
    "    gdf2021.to_file(\"geodata/swissimage_current.gpkg\", layer='swissimage-2021', driver=\"GPKG\")\n",
    "else: \n",
    "    print(\"no enties in 2021\")\n",
    "if len(gdf2022)>0: \n",
    "    gdf2022.to_file(\"geodata/swissimage_current.gpkg\", layer='swissimage-2022', driver=\"GPKG\")\n",
    "else: \n",
    "    print(\"no enties in 2022\")\n",
    "\n"
   ]
  },
  {
   "attachments": {},
   "cell_type": "markdown",
   "id": "2b098bfc-5a41-4428-a3af-2bc0987dab4d",
   "metadata": {},
   "source": [
    "The geopackage is also available at: https://www.geopython.xyz/geodata/swissimage/10cm/swissimage_current.gpkg.zip"
   ]
  },
  {
   "attachments": {},
   "cell_type": "markdown",
   "id": "db58226e-d950-4fd0-91c4-c5a1a7fc795c",
   "metadata": {},
   "source": [
    "## Earth-Search AWS\n",
    "\n"
   ]
  },
  {
   "cell_type": "code",
   "execution_count": null,
   "id": "7fef1c76-ceec-4e26-8b9f-d2eff6a04feb",
   "metadata": {},
   "outputs": [],
   "source": [
    "catalog = Client.open(\"https://earth-search.aws.element84.com/v1/\")\n",
    "\n",
    "print(catalog.title)\n",
    "print(catalog.description)\n",
    "print(\"-\"*40)\n",
    "\n",
    "for collection in catalog.get_collections():\n",
    "    print(collection.id)"
   ]
  },
  {
   "cell_type": "code",
   "execution_count": null,
   "id": "434a4016-aee6-47cd-a7ef-adf9a92bf7cc",
   "metadata": {},
   "outputs": [],
   "source": [
    "from shapely.geometry import Point\n",
    "\n",
    "collection = catalog.get_collection(\"sentinel-2-l2a\")\n",
    "\n",
    "\n",
    "# Define the point geometry\n",
    "lon = 7.588749317607721\n",
    "lat = 47.54839134266942\n",
    "point = Point(lon, lat)\n",
    "\n",
    "search = catalog.search(\n",
    "    max_items = 150,\n",
    "    limit = 100, # Items per page\n",
    "    collections = collection,\n",
    "    intersects = point,\n",
    "    datetime = \"2022\",\n",
    "    query = {\"eo:cloud_cover\": {\"lt\":1} }\n",
    ")\n",
    "\n",
    "items = list(search.items())\n",
    "\n",
    "len(items)"
   ]
  },
  {
   "cell_type": "code",
   "execution_count": null,
   "id": "18230cc6-db0a-44c5-bace-507abd09db06",
   "metadata": {},
   "outputs": [],
   "source": [
    "IPython.display.JSON([k.to_dict() for k in items])"
   ]
  },
  {
   "cell_type": "code",
   "execution_count": null,
   "id": "df8af6d9-474e-48e3-abbb-e25919138314",
   "metadata": {},
   "outputs": [],
   "source": [
    "from shapely.geometry import shape\n",
    "\n",
    "\n",
    "for itm in items: \n",
    "    d = itm.to_dict()\n",
    "    \n",
    "    geom = shape(d[\"geometry\"])\n",
    "    \n",
    "    props = d[\"properties\"]\n",
    "\n",
    "    \n",
    "    for key in (d[\"assets\"]):\n",
    "        asset = d[\"assets\"][key]\n",
    "        \n",
    "        href = asset[\"href\"]\n",
    "        if \"title\" in asset:\n",
    "            title = asset[\"title\"]\n",
    "            if True: #title==\"Red (band 4) - 10m\" or title==\"Green (band 3) - 10m\" or title==\"Blue (band 2) - 10m\":\n",
    "                if href.startswith(\"https://\"):\n",
    "                    print(title, href)\n",
    "            \n",
    "    print(\"-\"*30)\n",
    "    break # just the first entry..\n",
    "        "
   ]
  },
  {
   "attachments": {},
   "cell_type": "markdown",
   "id": "f03fa487-3ac1-419b-9771-70c19b7f3ba3",
   "metadata": {},
   "source": [
    "Sentinal 2 data is multispectral and we have the following bands:\n",
    "\n",
    "| Band Name | Description                     | Spectral Range       | Spatial Resolution |\n",
    "|-----------|---------------------------------|----------------------|--------------------|\n",
    "| B01       | Coastal aerosol                 | 400 - 450 nm         | 60m                |\n",
    "| B02       | Blue                            | 450 - 520 nm         | 10m                |\n",
    "| B03       | Green                           | 530 - 590 nm         | 10m                |\n",
    "| B04       | Red                             | 640 - 680 nm         | 10m                |\n",
    "| B05       | Vegetation red edge 1           | 690 - 710 nm         | 20m                |\n",
    "| B06       | Vegetation red edge 2           | 730 - 740 nm         | 20m                |\n",
    "| B07       | Vegetation red edge 3           | 780 - 850 nm         | 20m                |\n",
    "| B08       | Near infrared (NIR) 1            | 770 - 890 nm         | 10m                |\n",
    "| B8A       | Vegetation red edge 4           | 860 - 880 nm         | 20m                |\n",
    "| B09       | Water vapor                     | 935 - 960 nm         | 60m                |\n",
    "| B10       | Cirrus                          | 1360 - 1390 nm       | 60m                |\n",
    "| B11       | Shortwave infrared (SWIR) 1     | 1560 - 1660 nm       | 20m                |\n",
    "| B12       | Shortwave infrared (SWIR) 2     | 2100 - 2280 nm       | 20m                |"
   ]
  },
  {
   "cell_type": "code",
   "execution_count": null,
   "id": "badff300-8889-411b-bbe0-fffb072a3894",
   "metadata": {},
   "outputs": [],
   "source": []
  }
 ],
 "metadata": {
  "kernelspec": {
   "display_name": "Python 3 (ipykernel)",
   "language": "python",
   "name": "python3"
  },
  "language_info": {
   "codemirror_mode": {
    "name": "ipython",
    "version": 3
   },
   "file_extension": ".py",
   "mimetype": "text/x-python",
   "name": "python",
   "nbconvert_exporter": "python",
   "pygments_lexer": "ipython3",
   "version": "3.8.16"
  }
 },
 "nbformat": 4,
 "nbformat_minor": 5
}
