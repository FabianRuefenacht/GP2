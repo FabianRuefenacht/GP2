{
 "cells": [
  {
   "cell_type": "code",
   "execution_count": 7,
   "metadata": {},
   "outputs": [
    {
     "data": {
      "text/html": [
       "<div>\n",
       "<style scoped>\n",
       "    .dataframe tbody tr th:only-of-type {\n",
       "        vertical-align: middle;\n",
       "    }\n",
       "\n",
       "    .dataframe tbody tr th {\n",
       "        vertical-align: top;\n",
       "    }\n",
       "\n",
       "    .dataframe thead th {\n",
       "        text-align: right;\n",
       "    }\n",
       "</style>\n",
       "<table border=\"1\" class=\"dataframe\">\n",
       "  <thead>\n",
       "    <tr style=\"text-align: right;\">\n",
       "      <th></th>\n",
       "      <th>brand</th>\n",
       "      <th>name</th>\n",
       "      <th>lon</th>\n",
       "      <th>lat</th>\n",
       "    </tr>\n",
       "  </thead>\n",
       "  <tbody>\n",
       "    <tr>\n",
       "      <th>0</th>\n",
       "      <td>Ruedi Rüssel</td>\n",
       "      <td>Ruedi Rüssel</td>\n",
       "      <td>7.640907</td>\n",
       "      <td>47.530029</td>\n",
       "    </tr>\n",
       "    <tr>\n",
       "      <th>1</th>\n",
       "      <td>Migrol</td>\n",
       "      <td>Migrol Service Muttenz</td>\n",
       "      <td>7.655820</td>\n",
       "      <td>47.526872</td>\n",
       "    </tr>\n",
       "    <tr>\n",
       "      <th>2</th>\n",
       "      <td>Ruedi Rüssel</td>\n",
       "      <td>Ruedi Rüssel Muttenz</td>\n",
       "      <td>7.645794</td>\n",
       "      <td>47.528606</td>\n",
       "    </tr>\n",
       "    <tr>\n",
       "      <th>3</th>\n",
       "      <td>Coop</td>\n",
       "      <td>Coop Tankstelle</td>\n",
       "      <td>7.683966</td>\n",
       "      <td>47.525033</td>\n",
       "    </tr>\n",
       "  </tbody>\n",
       "</table>\n",
       "</div>"
      ],
      "text/plain": [
       "          brand                    name       lon        lat\n",
       "0  Ruedi Rüssel            Ruedi Rüssel  7.640907  47.530029\n",
       "1        Migrol  Migrol Service Muttenz  7.655820  47.526872\n",
       "2  Ruedi Rüssel    Ruedi Rüssel Muttenz  7.645794  47.528606\n",
       "3          Coop         Coop Tankstelle  7.683966  47.525033"
      ]
     },
     "execution_count": 7,
     "metadata": {},
     "output_type": "execute_result"
    }
   ],
   "source": [
    "import pandas as pd\n",
    "df = pd.read_csv(\"01.csv\", sep=\";\", low_memory=False, encoding='UTF-8')\n",
    "df = df[[\"brand\", \"name\", \"lon\", \"lat\"]]\n",
    "\n",
    "# Wir wollen nur die Objektklasse TLM_SIEDLUNGSNAME:\n",
    "df.head()"
   ]
  },
  {
   "cell_type": "code",
   "execution_count": 8,
   "metadata": {},
   "outputs": [
    {
     "data": {
      "text/plain": [
       "'{\"brand\":{\"0\":\"Ruedi R\\\\u00fcssel\",\"1\":\"Migrol\",\"2\":\"Ruedi R\\\\u00fcssel\",\"3\":\"Coop\"},\"name\":{\"0\":\"Ruedi R\\\\u00fcssel\",\"1\":\"Migrol Service Muttenz\",\"2\":\"Ruedi R\\\\u00fcssel Muttenz\",\"3\":\"Coop Tankstelle\"},\"lon\":{\"0\":7.6409066,\"1\":7.65582,\"2\":7.6457936,\"3\":7.6839663},\"lat\":{\"0\":47.5300292,\"1\":47.5268723,\"2\":47.5286057,\"3\":47.5250327}}'"
      ]
     },
     "execution_count": 8,
     "metadata": {},
     "output_type": "execute_result"
    }
   ],
   "source": [
    "df.to_json()"
   ]
  },
  {
   "cell_type": "code",
   "execution_count": 5,
   "metadata": {},
   "outputs": [],
   "source": [
    "from pymongo import MongoClient\n",
    "from getpass import getuser\n",
    "\n",
    "dbname = \"GP2-\" + getuser().replace(\" \",\"\").lower()\n",
    "client = MongoClient(\"db.geopython.xyz\",\n",
    "                     username=\"igeo\",\n",
    "                     password=\"m0nG0&dB!\")\n",
    "db = client[dbname]\n",
    "collection = db.P01"
   ]
  },
  {
   "cell_type": "code",
   "execution_count": 6,
   "metadata": {},
   "outputs": [
    {
     "ename": "ValueError",
     "evalue": "The truth value of a DataFrame is ambiguous. Use a.empty, a.bool(), a.item(), a.any() or a.all().",
     "output_type": "error",
     "traceback": [
      "\u001b[1;31m---------------------------------------------------------------------------\u001b[0m",
      "\u001b[1;31mValueError\u001b[0m                                Traceback (most recent call last)",
      "Cell \u001b[1;32mIn[6], line 1\u001b[0m\n\u001b[1;32m----> 1\u001b[0m collection\u001b[39m.\u001b[39;49minsert_many(df)\n",
      "File \u001b[1;32mc:\\Users\\fruef\\anaconda3\\envs\\geopython38\\lib\\site-packages\\pymongo\\_csot.py:105\u001b[0m, in \u001b[0;36mapply.<locals>.csot_wrapper\u001b[1;34m(self, *args, **kwargs)\u001b[0m\n\u001b[0;32m    103\u001b[0m         \u001b[39mwith\u001b[39;00m _TimeoutContext(timeout):\n\u001b[0;32m    104\u001b[0m             \u001b[39mreturn\u001b[39;00m func(\u001b[39mself\u001b[39m, \u001b[39m*\u001b[39margs, \u001b[39m*\u001b[39m\u001b[39m*\u001b[39mkwargs)\n\u001b[1;32m--> 105\u001b[0m \u001b[39mreturn\u001b[39;00m func(\u001b[39mself\u001b[39;49m, \u001b[39m*\u001b[39;49margs, \u001b[39m*\u001b[39;49m\u001b[39m*\u001b[39;49mkwargs)\n",
      "File \u001b[1;32mc:\\Users\\fruef\\anaconda3\\envs\\geopython38\\lib\\site-packages\\pymongo\\collection.py:693\u001b[0m, in \u001b[0;36mCollection.insert_many\u001b[1;34m(self, documents, ordered, bypass_document_validation, session, comment)\u001b[0m\n\u001b[0;32m    640\u001b[0m \u001b[39m@_csot\u001b[39m\u001b[39m.\u001b[39mapply\n\u001b[0;32m    641\u001b[0m \u001b[39mdef\u001b[39;00m \u001b[39minsert_many\u001b[39m(\n\u001b[0;32m    642\u001b[0m     \u001b[39mself\u001b[39m,\n\u001b[1;32m   (...)\u001b[0m\n\u001b[0;32m    647\u001b[0m     comment: Optional[Any] \u001b[39m=\u001b[39m \u001b[39mNone\u001b[39;00m,\n\u001b[0;32m    648\u001b[0m ) \u001b[39m-\u001b[39m\u001b[39m>\u001b[39m InsertManyResult:\n\u001b[0;32m    649\u001b[0m     \u001b[39m\"\"\"Insert an iterable of documents.\u001b[39;00m\n\u001b[0;32m    650\u001b[0m \n\u001b[0;32m    651\u001b[0m \u001b[39m      >>> db.test.count_documents({})\u001b[39;00m\n\u001b[1;32m   (...)\u001b[0m\n\u001b[0;32m    691\u001b[0m \u001b[39m    .. versionadded:: 3.0\u001b[39;00m\n\u001b[0;32m    692\u001b[0m \u001b[39m    \"\"\"\u001b[39;00m\n\u001b[1;32m--> 693\u001b[0m     \u001b[39mif\u001b[39;00m (\n\u001b[0;32m    694\u001b[0m         \u001b[39mnot\u001b[39;00m \u001b[39misinstance\u001b[39m(documents, abc\u001b[39m.\u001b[39mIterable)\n\u001b[0;32m    695\u001b[0m         \u001b[39mor\u001b[39;00m \u001b[39misinstance\u001b[39m(documents, abc\u001b[39m.\u001b[39mMapping)\n\u001b[0;32m    696\u001b[0m         \u001b[39mor\u001b[39;00m \u001b[39mnot\u001b[39;00m documents\n\u001b[0;32m    697\u001b[0m     ):\n\u001b[0;32m    698\u001b[0m         \u001b[39mraise\u001b[39;00m \u001b[39mTypeError\u001b[39;00m(\u001b[39m\"\u001b[39m\u001b[39mdocuments must be a non-empty list\u001b[39m\u001b[39m\"\u001b[39m)\n\u001b[0;32m    699\u001b[0m     inserted_ids: List[ObjectId] \u001b[39m=\u001b[39m []\n",
      "File \u001b[1;32mc:\\Users\\fruef\\anaconda3\\envs\\geopython38\\lib\\site-packages\\pandas\\core\\generic.py:1527\u001b[0m, in \u001b[0;36mNDFrame.__nonzero__\u001b[1;34m(self)\u001b[0m\n\u001b[0;32m   1525\u001b[0m \u001b[39m@final\u001b[39m\n\u001b[0;32m   1526\u001b[0m \u001b[39mdef\u001b[39;00m \u001b[39m__nonzero__\u001b[39m(\u001b[39mself\u001b[39m) \u001b[39m-\u001b[39m\u001b[39m>\u001b[39m NoReturn:\n\u001b[1;32m-> 1527\u001b[0m     \u001b[39mraise\u001b[39;00m \u001b[39mValueError\u001b[39;00m(\n\u001b[0;32m   1528\u001b[0m         \u001b[39mf\u001b[39m\u001b[39m\"\u001b[39m\u001b[39mThe truth value of a \u001b[39m\u001b[39m{\u001b[39;00m\u001b[39mtype\u001b[39m(\u001b[39mself\u001b[39m)\u001b[39m.\u001b[39m\u001b[39m__name__\u001b[39m\u001b[39m}\u001b[39;00m\u001b[39m is ambiguous. \u001b[39m\u001b[39m\"\u001b[39m\n\u001b[0;32m   1529\u001b[0m         \u001b[39m\"\u001b[39m\u001b[39mUse a.empty, a.bool(), a.item(), a.any() or a.all().\u001b[39m\u001b[39m\"\u001b[39m\n\u001b[0;32m   1530\u001b[0m     )\n",
      "\u001b[1;31mValueError\u001b[0m: The truth value of a DataFrame is ambiguous. Use a.empty, a.bool(), a.item(), a.any() or a.all()."
     ]
    }
   ],
   "source": [
    "collection.insert_many(df)"
   ]
  },
  {
   "cell_type": "code",
   "execution_count": 11,
   "metadata": {},
   "outputs": [],
   "source": [
    "dbname = \"GP2-\" + getuser().replace(\" \",\"\").lower()\n",
    "client = MongoClient(\"db.geopython.xyz\",\n",
    "                     username=\"igeo\",\n",
    "                     password=\"m0nG0&dB!\")\n",
    "db = client[dbname]\n",
    "collection = db.P01"
   ]
  },
  {
   "cell_type": "code",
   "execution_count": 9,
   "metadata": {},
   "outputs": [],
   "source": [
    "import csv\n",
    "from pymongo import MongoClient\n",
    "\n",
    "dbname = \"GP2-\" + getuser().replace(\" \",\"\").lower()\n",
    "client = MongoClient(\"db.geopython.xyz\",\n",
    "                     username=\"igeo\",\n",
    "                     password=\"m0nG0&dB!\")\n",
    "db = client[dbname]\n",
    "collection = db.P01\n",
    "\n",
    "# CSV-Datei öffnen\n",
    "with open('01.csv', 'r') as file:\n",
    "    csv_data = csv.reader(file, delimiter=';')\n",
    "    header = next(csv_data)  # Spaltennamen auslesen\n",
    "\n",
    "    # Daten aus der CSV-Datei in MongoDB einfügen\n",
    "    for row in csv_data:\n",
    "        data = {\n",
    "            'brand': row[0],\n",
    "            'name': row[1],\n",
    "            'geometry': {\n",
    "                'lon': float(row[2]),\n",
    "                'lat': float(row[3])}\n",
    "        }\n",
    "        collection.insert_one(data)\n",
    "\n"
   ]
  },
  {
   "cell_type": "code",
   "execution_count": 12,
   "metadata": {},
   "outputs": [
    {
     "name": "stdout",
     "output_type": "stream",
     "text": [
      "{'_id': ObjectId('6470541b8d32a71c85c3a393'), 'brand': 'Ruedi Rüssel', 'name': 'Ruedi Rüssel', 'geometry': {'lon': 7.6409066, 'lat': 47.5300292}}\n",
      "{'_id': ObjectId('6470541c8d32a71c85c3a394'), 'brand': 'Migrol', 'name': 'Migrol Service Muttenz', 'geometry': {'lon': 7.65582, 'lat': 47.5268723}}\n",
      "{'_id': ObjectId('6470541c8d32a71c85c3a395'), 'brand': 'Ruedi Rüssel', 'name': 'Ruedi Rüssel Muttenz', 'geometry': {'lon': 7.6457936, 'lat': 47.5286057}}\n",
      "{'_id': ObjectId('6470541c8d32a71c85c3a396'), 'brand': 'Coop', 'name': 'Coop Tankstelle', 'geometry': {'lon': 7.6839663, 'lat': 47.5250327}}\n"
     ]
    }
   ],
   "source": [
    "# Abfrage für Tankstellen in der Schweiz\n",
    "query = {\n",
    "    \"geometry\": {\n",
    "        \"$geoWithin\": {\n",
    "            \"$geometry\": {\n",
    "                \"type\": \"Polygon\",\n",
    "                \"coordinates\": [\n",
    "                    [\n",
    "                        [5.9559, 45.8171],  # Koordinaten für die Begrenzung der Schweiz\n",
    "                        [10.4921, 45.8171],\n",
    "                        [10.4921, 47.8084],\n",
    "                        [5.9559, 47.8084],\n",
    "                        [5.9559, 45.8171]\n",
    "                    ]\n",
    "                ]\n",
    "            }\n",
    "        }\n",
    "    }\n",
    "}\n",
    "\n",
    "# Abfrage durchführen\n",
    "result = collection.find(query)\n",
    "\n",
    "# Ergebnisse anzeigen\n",
    "for item in result:\n",
    "    print(item)\n"
   ]
  },
  {
   "cell_type": "code",
   "execution_count": 19,
   "metadata": {},
   "outputs": [
    {
     "data": {
      "text/plain": [
       "'geometry_2dsphere'"
      ]
     },
     "execution_count": 19,
     "metadata": {},
     "output_type": "execute_result"
    }
   ],
   "source": [
    "\n",
    "collection.create_index([(\"geometry\", '2dsphere')])"
   ]
  },
  {
   "cell_type": "code",
   "execution_count": 20,
   "metadata": {},
   "outputs": [
    {
     "name": "stdout",
     "output_type": "stream",
     "text": [
      "{'_id': ObjectId('6470541b8d32a71c85c3a393'), 'brand': 'Ruedi Rüssel', 'name': 'Ruedi Rüssel', 'geometry': {'lon': 7.6409066, 'lat': 47.5300292}}\n",
      "{'_id': ObjectId('6470541c8d32a71c85c3a395'), 'brand': 'Ruedi Rüssel', 'name': 'Ruedi Rüssel Muttenz', 'geometry': {'lon': 7.6457936, 'lat': 47.5286057}}\n",
      "{'_id': ObjectId('6470541c8d32a71c85c3a394'), 'brand': 'Migrol', 'name': 'Migrol Service Muttenz', 'geometry': {'lon': 7.65582, 'lat': 47.5268723}}\n",
      "{'_id': ObjectId('6470541c8d32a71c85c3a396'), 'brand': 'Coop', 'name': 'Coop Tankstelle', 'geometry': {'lon': 7.6839663, 'lat': 47.5250327}}\n"
     ]
    }
   ],
   "source": [
    "\n",
    "lon = 7.1234\n",
    "lat = 47.5678\n",
    "query = {\n",
    "    \"geometry\": {\n",
    "        \"$nearSphere\": {\n",
    "            \"$geometry\": {\n",
    "                \"type\": \"Point\",\n",
    "                \"coordinates\": [lon, lat]  # Aktuelle Position\n",
    "            },\n",
    "            \"$maxDistance\": 100*1000  # hier werden Tankstellen im Umkreis von 100km abgefragt\n",
    "        }\n",
    "    }\n",
    "}\n",
    " \n",
    "\n",
    "# Abfrage durchführen\n",
    "result = collection.find(query)\n",
    "\n",
    "# Ergebnisse anzeigen\n",
    "for doc in result:\n",
    "    print(doc)"
   ]
  },
  {
   "cell_type": "code",
   "execution_count": 24,
   "metadata": {},
   "outputs": [
    {
     "name": "stdout",
     "output_type": "stream",
     "text": [
      "Anzahl der Tankstellen von Tamoil: 0\n"
     ]
    }
   ],
   "source": [
    "import geopandas as gpd\n",
    "\n",
    "csv_file = \"01.csv\"\n",
    "\n",
    "df = gpd.read_file(csv_file, delimiter=\";\") #geopandas\n",
    "\n",
    "# a) Anzahl der Tankstellen der Firma \"Tamoil\"\n",
    "tamoil_count = len(df[df['brand'] == 'Tamoil'])\n",
    "print(\"Anzahl der Tankstellen von Tamoil:\", tamoil_count)\n",
    "\n",
    "# b) Shapefile erstellen\n",
    "output_shapefile = \"tankstellen.shp\"\n",
    "df.to_file(output_shapefile)\n",
    "\n"
   ]
  },
  {
   "cell_type": "code",
   "execution_count": 25,
   "metadata": {},
   "outputs": [
    {
     "name": "stdout",
     "output_type": "stream",
     "text": [
      "Die Karte wurde als peaks.html gespeichert.\n"
     ]
    }
   ],
   "source": [
    "import folium\n",
    "\n",
    "# Daten der Berggipfel\n",
    "data = [\n",
    "    [45.922513343092916, 7.835574679184418, 'Liskamm', 4527],\n",
    "    [45.941997570720375, 7.869820276613906, 'Nordend', 4609],\n",
    "    [46.10902325837147, 7.863895545667632, 'Nadelhorn', 4327],\n",
    "    [45.932186337151684, 7.8714190183674555, 'Zumsteinspitze', 4563],\n",
    "    [46.08336532442726, 7.857296913890337, 'Täschhorn', 4491],\n",
    "    [45.91669904679932, 7.863563975062021, 'Ludwigshöhe', 4341],\n",
    "    [45.93756139078208, 7.299279971077615, 'Grand Combin de Grafeneire', 4314],\n",
    "    [45.922513343092916, 7.835574679184418, 'Lyskamm', 4527],\n",
    "    [45.93683662540408, 7.866814344981748, 'Dufourspitze (Pointe Dufour)', 4634],\n",
    "    [46.10129664518156, 7.716156885858494, 'Weisshorn', 4506],\n",
    "    [45.976340506120614, 7.658691510512221, 'Monte Cervino', 4478],\n",
    "    [45.976340506120614, 7.658691510512221, 'Matterhorn', 4478],\n",
    "    [45.93674004101607, 7.86855410887458, 'Grenzgipfel', 4618],\n",
    "    [45.92712756883081, 7.876921984235257, 'Signalkuppe (Punta Gnifetti)', 4554],\n",
    "    [46.093839189553464, 7.858928716434883, 'Dom', 4545],\n",
    "    [46.107109586833495, 7.711724522200983, 'Grand Gendarme', 4331],\n",
    "    [45.919638502715564, 7.8711910872756405, 'Parrotspitze', 4432],\n",
    "    [46.093839189553464, 7.858928716434883, 'Mischabel', 4545],\n",
    "    [46.03426257063022, 7.61204033560156, 'Dent Blanche', 4357]\n",
    "]\n",
    "\n",
    "# Zentrale Koordinaten für die Kartenansicht\n",
    "center_lat, center_lon = 46.0833, 7.7\n",
    "\n",
    "# Karte erstellen\n",
    "m = folium.Map(location=[center_lat, center_lon], zoom_start=10)\n",
    "\n",
    "# Marker für Gipfel über 4300 m hinzufügen\n",
    "for lat, lon, name, elevation in data:\n",
    "    if elevation > 4300:\n",
    "        folium.Marker(\n",
    "            location=[lat, lon],\n",
    "            popup=name,\n",
    "            icon=folium.Icon(color='red', icon='info-sign')\n",
    "        ).add_to(m)\n",
    "\n",
    "# Karte als HTML-Datei speichern\n",
    "output_file = \"peaks.html\"\n",
    "m.save(output_file)\n",
    "\n",
    "# Erfolgsmeldung\n",
    "print(\"Die Karte wurde als\", output_file, \"gespeichert.\")\n"
   ]
  },
  {
   "cell_type": "code",
   "execution_count": 27,
   "metadata": {},
   "outputs": [
    {
     "name": "stdout",
     "output_type": "stream",
     "text": [
      "Schneiden sich die Polygone?  True\n",
      "Polygon C (Vereinigung von A und B):  POLYGON ((4 3, 4 1, 1 1, 1 4, 3 4, 3 6, 6 6, 6 3, 4 3))\n",
      "Liegt der Punkt (3, 3) innerhalb der Polygone?\n",
      "A :  True\n",
      "B :  False\n",
      "C :  True\n"
     ]
    }
   ],
   "source": [
    "from shapely.geometry import Polygon, Point\n",
    "\n",
    "def check_polygon_intersection(polygon_a, polygon_b):\n",
    "    # Überprüfen, ob sich die Polygone schneiden\n",
    "    intersection = polygon_a.intersection(polygon_b)\n",
    "    return not intersection.is_empty\n",
    "\n",
    "def calculate_polygon_union(polygon_a, polygon_b):\n",
    "    # Berechnen der Vereinigung von A und B\n",
    "    union = polygon_a.union(polygon_b)\n",
    "    return union\n",
    "\n",
    "def check_point_in_polygons(point, polygons):\n",
    "    # Überprüfen, ob der Punkt innerhalb der Polygone liegt\n",
    "    results = {}\n",
    "    for name, polygon in polygons.items():\n",
    "        if polygon.contains(point):\n",
    "            results[name] = True\n",
    "        else:\n",
    "            results[name] = False\n",
    "    return results\n",
    "\n",
    "# Beispiel Polygone\n",
    "polygon_a_coords = [(1, 1), (4, 1), (4, 4), (1, 4)]\n",
    "polygon_b_coords = [(3, 3), (6, 3), (6, 6), (3, 6)]\n",
    "\n",
    "# Erstellen der Polygone\n",
    "from shapely.geometry import Polygon\n",
    "polygon_a = Polygon(polygon_a_coords)\n",
    "polygon_b = Polygon(polygon_b_coords)\n",
    "\n",
    "# a) Testen, ob sich die Polygone schneiden\n",
    "intersection_check = check_polygon_intersection(polygon_a, polygon_b)\n",
    "print(\"Schneiden sich die Polygone? \", intersection_check)\n",
    "\n",
    "# b) Berechnen der Vereinigung von A und B\n",
    "polygon_c = calculate_polygon_union(polygon_a, polygon_b)\n",
    "print(\"Polygon C (Vereinigung von A und B): \", polygon_c)\n",
    "\n",
    "# c) Testen, ob der Punkt (3, 3) innerhalb von A, B und C liegt\n",
    "point = Point(3, 3)\n",
    "polygons = {\n",
    "    \"A\": polygon_a,\n",
    "    \"B\": polygon_b,\n",
    "    \"C\": polygon_c\n",
    "}\n",
    "point_check = check_point_in_polygons(point, polygons)\n",
    "print(\"Liegt der Punkt (3, 3) innerhalb der Polygone?\")\n",
    "for name, result in point_check.items():\n",
    "    print(name, \": \", result)\n",
    "\n"
   ]
  },
  {
   "cell_type": "code",
   "execution_count": 28,
   "metadata": {},
   "outputs": [
    {
     "name": "stdout",
     "output_type": "stream",
     "text": [
      "True\n"
     ]
    }
   ],
   "source": [
    "print(intersection_check)"
   ]
  },
  {
   "cell_type": "code",
   "execution_count": 29,
   "metadata": {},
   "outputs": [
    {
     "data": {
      "image/svg+xml": [
       "<svg xmlns=\"http://www.w3.org/2000/svg\" xmlns:xlink=\"http://www.w3.org/1999/xlink\" width=\"100.0\" height=\"100.0\" viewBox=\"0.8 0.8 5.4 5.4\" preserveAspectRatio=\"xMinYMin meet\"><g transform=\"matrix(1,0,0,-1,0,7.0)\"><path fill-rule=\"evenodd\" fill=\"#66cc99\" stroke=\"#555555\" stroke-width=\"0.10800000000000001\" opacity=\"0.6\" d=\"M 4.0,3.0 L 4.0,1.0 L 1.0,1.0 L 1.0,4.0 L 3.0,4.0 L 3.0,6.0 L 6.0,6.0 L 6.0,3.0 L 4.0,3.0 z\" /></g></svg>"
      ],
      "text/plain": [
       "<shapely.geometry.polygon.Polygon at 0x1daefde7400>"
      ]
     },
     "execution_count": 29,
     "metadata": {},
     "output_type": "execute_result"
    }
   ],
   "source": [
    "\n",
    "polygon_c = calculate_polygon_union(polygon_a, polygon_b)\n",
    "polygon_c"
   ]
  },
  {
   "cell_type": "code",
   "execution_count": 30,
   "metadata": {},
   "outputs": [
    {
     "name": "stdout",
     "output_type": "stream",
     "text": [
      "A :  True\n",
      "B :  False\n",
      "C :  True\n"
     ]
    }
   ],
   "source": [
    "point = Point(3, 3)\n",
    "polygons = {\n",
    "    \"A\": polygon_a,\n",
    "    \"B\": polygon_b,\n",
    "    \"C\": polygon_c\n",
    "}\n",
    "point_check = check_point_in_polygons(point, polygons)\n",
    "for name, result in point_check.items():\n",
    "    print(name, \": \", result)"
   ]
  },
  {
   "cell_type": "code",
   "execution_count": 31,
   "metadata": {},
   "outputs": [
    {
     "name": "stdout",
     "output_type": "stream",
     "text": [
      "Anzahl der Tankstellen von Tamoil: 0\n",
      "CRS: None\n",
      "          brand                    name        lon         lat geometry\n",
      "0  Ruedi Rüssel            Ruedi Rüssel  7.6409066  47.5300292     None\n",
      "1        Migrol  Migrol Service Muttenz  7.6558200  47.5268723     None\n",
      "2  Ruedi Rüssel    Ruedi Rüssel Muttenz  7.6457936  47.5286057     None\n",
      "3          Coop         Coop Tankstelle  7.6839663  47.5250327     None\n"
     ]
    }
   ],
   "source": [
    "import geopandas as gpd\n",
    "\n",
    "csv_file = \"01.csv\"\n",
    "\n",
    "# Daten einlesen\n",
    "df = gpd.read_file(csv_file, delimiter=\";\")\n",
    "\n",
    "# a) Anzahl der Tankstellen der Firma \"Tamoil\"\n",
    "tamoil_count = len(df[df['brand'] == 'Tamoil'])\n",
    "print(\"Anzahl der Tankstellen von Tamoil:\", tamoil_count)\n",
    "\n",
    "# b) Shapefile erstellen\n",
    "output_shapefile = \"tankstellen.shp\"\n",
    "df.to_file(output_shapefile, driver='ESRI Shapefile')\n",
    "\n",
    "# Überprüfen des CRS (Coordinate Reference System)\n",
    "print(\"CRS:\", df.crs)\n",
    "\n",
    "# Ausgabe der ersten Zeilen des Shapefiles\n",
    "print(df.head())\n"
   ]
  },
  {
   "cell_type": "code",
   "execution_count": 34,
   "metadata": {},
   "outputs": [
    {
     "ename": "TypeError",
     "evalue": "must be real number, not str",
     "output_type": "error",
     "traceback": [
      "\u001b[1;31m---------------------------------------------------------------------------\u001b[0m",
      "\u001b[1;31mTypeError\u001b[0m                                 Traceback (most recent call last)",
      "Cell \u001b[1;32mIn[34], line 10\u001b[0m\n\u001b[0;32m      7\u001b[0m df \u001b[39m=\u001b[39m gpd\u001b[39m.\u001b[39mread_file(csv_file, delimiter\u001b[39m=\u001b[39m\u001b[39m\"\u001b[39m\u001b[39m;\u001b[39m\u001b[39m\"\u001b[39m)\n\u001b[0;32m      9\u001b[0m \u001b[39m# Geometriespalte erstellen\u001b[39;00m\n\u001b[1;32m---> 10\u001b[0m geometry \u001b[39m=\u001b[39m [Point(xy) \u001b[39mfor\u001b[39;00m xy \u001b[39min\u001b[39;00m \u001b[39mzip\u001b[39m(df[\u001b[39m'\u001b[39m\u001b[39mlon\u001b[39m\u001b[39m'\u001b[39m], df[\u001b[39m'\u001b[39m\u001b[39mlat\u001b[39m\u001b[39m'\u001b[39m])]\n\u001b[0;32m     11\u001b[0m crs \u001b[39m=\u001b[39m \u001b[39m'\u001b[39m\u001b[39mEPSG:4326\u001b[39m\u001b[39m'\u001b[39m  \u001b[39m# Koordinatensystem (WGS84)\u001b[39;00m\n\u001b[0;32m     13\u001b[0m \u001b[39m# DataFrame aktualisieren\u001b[39;00m\n",
      "Cell \u001b[1;32mIn[34], line 10\u001b[0m, in \u001b[0;36m<listcomp>\u001b[1;34m(.0)\u001b[0m\n\u001b[0;32m      7\u001b[0m df \u001b[39m=\u001b[39m gpd\u001b[39m.\u001b[39mread_file(csv_file, delimiter\u001b[39m=\u001b[39m\u001b[39m\"\u001b[39m\u001b[39m;\u001b[39m\u001b[39m\"\u001b[39m)\n\u001b[0;32m      9\u001b[0m \u001b[39m# Geometriespalte erstellen\u001b[39;00m\n\u001b[1;32m---> 10\u001b[0m geometry \u001b[39m=\u001b[39m [Point(xy) \u001b[39mfor\u001b[39;00m xy \u001b[39min\u001b[39;00m \u001b[39mzip\u001b[39m(df[\u001b[39m'\u001b[39m\u001b[39mlon\u001b[39m\u001b[39m'\u001b[39m], df[\u001b[39m'\u001b[39m\u001b[39mlat\u001b[39m\u001b[39m'\u001b[39m])]\n\u001b[0;32m     11\u001b[0m crs \u001b[39m=\u001b[39m \u001b[39m'\u001b[39m\u001b[39mEPSG:4326\u001b[39m\u001b[39m'\u001b[39m  \u001b[39m# Koordinatensystem (WGS84)\u001b[39;00m\n\u001b[0;32m     13\u001b[0m \u001b[39m# DataFrame aktualisieren\u001b[39;00m\n",
      "File \u001b[1;32mc:\\Users\\fruef\\anaconda3\\envs\\geopython38\\lib\\site-packages\\shapely\\geometry\\point.py:51\u001b[0m, in \u001b[0;36mPoint.__init__\u001b[1;34m(self, *args)\u001b[0m\n\u001b[0;32m     49\u001b[0m \u001b[39mif\u001b[39;00m \u001b[39mlen\u001b[39m(args) \u001b[39m>\u001b[39m \u001b[39m0\u001b[39m:\n\u001b[0;32m     50\u001b[0m     \u001b[39mif\u001b[39;00m \u001b[39mlen\u001b[39m(args) \u001b[39m==\u001b[39m \u001b[39m1\u001b[39m:\n\u001b[1;32m---> 51\u001b[0m         geom, n \u001b[39m=\u001b[39m geos_point_from_py(args[\u001b[39m0\u001b[39;49m])\n\u001b[0;32m     52\u001b[0m     \u001b[39melif\u001b[39;00m \u001b[39mlen\u001b[39m(args) \u001b[39m>\u001b[39m \u001b[39m3\u001b[39m:\n\u001b[0;32m     53\u001b[0m         \u001b[39mraise\u001b[39;00m \u001b[39mTypeError\u001b[39;00m(\n\u001b[0;32m     54\u001b[0m             \u001b[39m\"\u001b[39m\u001b[39mPoint() takes at most 3 arguments (\u001b[39m\u001b[39m{}\u001b[39;00m\u001b[39m given)\u001b[39m\u001b[39m\"\u001b[39m\u001b[39m.\u001b[39mformat(\u001b[39mlen\u001b[39m(args))\n\u001b[0;32m     55\u001b[0m         )\n",
      "File \u001b[1;32mc:\\Users\\fruef\\anaconda3\\envs\\geopython38\\lib\\site-packages\\shapely\\geometry\\point.py:262\u001b[0m, in \u001b[0;36mgeos_point_from_py\u001b[1;34m(ob, update_geom, update_ndim)\u001b[0m\n\u001b[0;32m    260\u001b[0m     coords \u001b[39m=\u001b[39m ob\n\u001b[0;32m    261\u001b[0m n \u001b[39m=\u001b[39m \u001b[39mlen\u001b[39m(coords)\n\u001b[1;32m--> 262\u001b[0m dx \u001b[39m=\u001b[39m c_double(coords[\u001b[39m0\u001b[39;49m])\n\u001b[0;32m    263\u001b[0m dy \u001b[39m=\u001b[39m c_double(coords[\u001b[39m1\u001b[39m])\n\u001b[0;32m    264\u001b[0m dz \u001b[39m=\u001b[39m \u001b[39mNone\u001b[39;00m\n",
      "\u001b[1;31mTypeError\u001b[0m: must be real number, not str"
     ]
    }
   ],
   "source": [
    "import geopandas as gpd\n",
    "from shapely.geometry import Point\n",
    "\n",
    "csv_file = \"01.csv\"\n",
    "\n",
    "# Daten einlesen\n",
    "df = gpd.read_file(csv_file, delimiter=\";\")\n",
    "\n",
    "# Geometriespalte erstellen\n",
    "geometry = [Point(xy) for xy in zip(df['lon'], df['lat'])]\n",
    "crs = 'EPSG:4326'  # Koordinatensystem (WGS84)\n",
    "\n",
    "# DataFrame aktualisieren\n",
    "df = gpd.GeoDataFrame(df, geometry=geometry, crs=crs)\n",
    "\n",
    "# a) Anzahl der Tankstellen der Firma \"Tamoil\"\n",
    "tamoil_count = len(df[df['brand'] == 'Tamoil'])\n",
    "print(\"Anzahl der Tankstellen von Tamoil:\", tamoil_count)\n",
    "\n",
    "# b) Shapefile erstellen\n",
    "output_shapefile = \"tankstellen.shp\"\n",
    "df.to_file(output_shapefile)\n",
    "\n",
    "# Überprüfen des CRS (Coordinate Reference System)\n",
    "print(\"CRS:\", df.crs)\n",
    "\n",
    "# Ausgabe der ersten Zeilen des Shapefiles\n",
    "print(df.head())\n"
   ]
  },
  {
   "cell_type": "code",
   "execution_count": 36,
   "metadata": {},
   "outputs": [
    {
     "name": "stdout",
     "output_type": "stream",
     "text": [
      "Anzahl der Tankstellen von Tamoil: 0\n"
     ]
    }
   ],
   "source": [
    "import geopandas as gpd\n",
    "from shapely.geometry import Point\n",
    "\n",
    "csv_file = \"01.csv\"\n",
    "\n",
    "df = gpd.read_file(csv_file, delimiter=\";\")\n",
    "\n",
    "# Geometriespalte erstellen, Die Koordinaten müssen von String nach Float umgerechnet werden\n",
    "df['lon'] = df['lon'].astype(float) \n",
    "df['lat'] = df['lat'].astype(float) \n",
    "geometry = [Point(xy) for xy in zip(df['lon'], df['lat'])]\n",
    "crs = 'EPSG:4326'  \n",
    "\n",
    "df = gpd.GeoDataFrame(df, geometry=geometry, crs=crs)\n",
    "\n",
    "# a) Anzahl der Tankstellen der Firma \"Tamoil\"\n",
    "tamoil_count = len(df[df['brand'] == 'Tamoil'])\n",
    "print(\"Anzahl der Tankstellen von Tamoil:\", tamoil_count)\n",
    "\n",
    "# b) Shapefile erstellen\n",
    "output_shapefile = \"tankstellen.shp\"\n",
    "df.to_file(output_shapefile)\n",
    "\n"
   ]
  },
  {
   "cell_type": "code",
   "execution_count": null,
   "metadata": {},
   "outputs": [],
   "source": []
  }
 ],
 "metadata": {
  "kernelspec": {
   "display_name": "geopython38",
   "language": "python",
   "name": "python3"
  },
  "language_info": {
   "codemirror_mode": {
    "name": "ipython",
    "version": 3
   },
   "file_extension": ".py",
   "mimetype": "text/x-python",
   "name": "python",
   "nbconvert_exporter": "python",
   "pygments_lexer": "ipython3",
   "version": "3.8.16"
  },
  "orig_nbformat": 4
 },
 "nbformat": 4,
 "nbformat_minor": 2
}
