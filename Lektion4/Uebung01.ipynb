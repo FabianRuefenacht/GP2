{
 "cells": [
  {
   "cell_type": "code",
   "execution_count": 5,
   "metadata": {},
   "outputs": [],
   "source": [
    "url = \"https://www.geopython.xyz/geodata/srtm/\"\n",
    "\n",
    "urllist = [url + \"srtm_53_06.zip\",\n",
    "    url + \"srtm_53_07.zip\",\n",
    "    url + \"srtm_54_06.zip\",\n",
    "    url + \"srtm_54_07.zip\"]\n"
   ]
  },
  {
   "cell_type": "code",
   "execution_count": 6,
   "metadata": {},
   "outputs": [
    {
     "data": {
      "text/plain": [
       "True"
      ]
     },
     "execution_count": 6,
     "metadata": {},
     "output_type": "execute_result"
    }
   ],
   "source": []
  },
  {
   "cell_type": "code",
   "execution_count": 8,
   "metadata": {},
   "outputs": [
    {
     "name": "stdout",
     "output_type": "stream",
     "text": [
      "Downloading uebung from https://www.geopython.xyz/geodata/srtm/srtm_53_06.zip\n"
     ]
    },
    {
     "ename": "PermissionError",
     "evalue": "[Errno 13] Permission denied: 'uebung'",
     "output_type": "error",
     "traceback": [
      "\u001b[1;31m---------------------------------------------------------------------------\u001b[0m",
      "\u001b[1;31mPermissionError\u001b[0m                           Traceback (most recent call last)",
      "Cell \u001b[1;32mIn[8], line 12\u001b[0m\n\u001b[0;32m      9\u001b[0m     os\u001b[39m.\u001b[39mmkdir(\u001b[39m\"\u001b[39m\u001b[39muebung\u001b[39m\u001b[39m\"\u001b[39m)\n\u001b[0;32m     11\u001b[0m \u001b[39mfor\u001b[39;00m url \u001b[39min\u001b[39;00m urllist:\n\u001b[1;32m---> 12\u001b[0m     geoutils\u001b[39m.\u001b[39;49mdownload(url, \u001b[39m\"\u001b[39;49m\u001b[39muebung\u001b[39;49m\u001b[39m\"\u001b[39;49m)\n",
      "File \u001b[1;32md:\\4040.1_Geoprogrammierung\\GP2\\Lektion4\\geoutils.py:69\u001b[0m, in \u001b[0;36mdownload\u001b[1;34m(url, destfile, overwrite)\u001b[0m\n\u001b[0;32m     66\u001b[0m filesize \u001b[39m=\u001b[39m \u001b[39mint\u001b[39m(cl)\n\u001b[0;32m     67\u001b[0m currentsize \u001b[39m=\u001b[39m \u001b[39m0\u001b[39m\n\u001b[1;32m---> 69\u001b[0m \u001b[39mwith\u001b[39;00m \u001b[39mopen\u001b[39;49m(destfile, \u001b[39m'\u001b[39;49m\u001b[39mwb\u001b[39;49m\u001b[39m'\u001b[39;49m) \u001b[39mas\u001b[39;00m f:\n\u001b[0;32m     70\u001b[0m     \u001b[39mwhile\u001b[39;00m \u001b[39mTrue\u001b[39;00m:\n\u001b[0;32m     71\u001b[0m         chunk \u001b[39m=\u001b[39m response\u001b[39m.\u001b[39mread(\u001b[39m16\u001b[39m\u001b[39m*\u001b[39m\u001b[39m1024\u001b[39m)\n",
      "\u001b[1;31mPermissionError\u001b[0m: [Errno 13] Permission denied: 'uebung'"
     ]
    }
   ],
   "source": [
    "import geoutils\n",
    "import os\n",
    "\n",
    "if os.path.exists(\"uebung\"):\n",
    "    os.rmdir(\"uebung\")\n",
    "\n",
    "\n",
    "if not os.path.exists(\"uebung\"):\n",
    "    os.mkdir(\"uebung\")\n",
    "\n",
    "for url in urllist:\n",
    "    geoutils.download(url, \"uebung\")"
   ]
  },
  {
   "cell_type": "code",
   "execution_count": 17,
   "metadata": {},
   "outputs": [
    {
     "name": "stdout",
     "output_type": "stream",
     "text": [
      "Uebung1/srtm_53_06.zip\n",
      "Uebung1/srtm_53_07.zip\n",
      "Uebung1/srtm_54_06.zip\n",
      "Uebung1/srtm_54_07.zip\n"
     ]
    }
   ],
   "source": [
    "import os\n",
    "import geoutils\n",
    "for url in urllist:\n",
    "    pfad = \"uebung/\" + os.path.basename(url)\n",
    "    print(pfad)"
   ]
  },
  {
   "cell_type": "code",
   "execution_count": null,
   "metadata": {},
   "outputs": [],
   "source": []
  }
 ],
 "metadata": {
  "kernelspec": {
   "display_name": "geopython38",
   "language": "python",
   "name": "python3"
  },
  "language_info": {
   "codemirror_mode": {
    "name": "ipython",
    "version": 3
   },
   "file_extension": ".py",
   "mimetype": "text/x-python",
   "name": "python",
   "nbconvert_exporter": "python",
   "pygments_lexer": "ipython3",
   "version": "3.8.16"
  },
  "orig_nbformat": 4
 },
 "nbformat": 4,
 "nbformat_minor": 2
}
