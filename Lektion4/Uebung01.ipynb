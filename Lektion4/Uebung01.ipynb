{
 "cells": [
  {
   "cell_type": "code",
   "execution_count": 5,
   "metadata": {},
   "outputs": [],
   "source": [
    "url = \"https://www.geopython.xyz/geodata/srtm/\"\n",
    "\n",
    "urllist = [url + \"srtm_53_06.zip\",\n",
    "    url + \"srtm_53_07.zip\",\n",
    "    url + \"srtm_54_06.zip\",\n",
    "    url + \"srtm_54_07.zip\"]\n"
   ]
  },
  {
   "cell_type": "code",
   "execution_count": 19,
   "metadata": {},
   "outputs": [],
   "source": [
    "fname = [\"srtm_53_06\",\n",
    "         \"srtm_53_07\",\n",
    "         \"srtm_54_06\",\n",
    "         \"srtm_54_07\"]"
   ]
  },
  {
   "cell_type": "code",
   "execution_count": 30,
   "metadata": {},
   "outputs": [
    {
     "name": "stdout",
     "output_type": "stream",
     "text": [
      "Downloading uebung/srtm_53_06.zip from https://www.geopython.xyz/geodata/srtm/srtm_53_06.zip\n",
      "100% done \t[****************************************************************************************************]\n",
      "Downloading uebung/srtm_53_07.zip from https://www.geopython.xyz/geodata/srtm/srtm_53_07.zip\n",
      "100% done \t[****************************************************************************************************]\n",
      "Downloading uebung/srtm_54_06.zip from https://www.geopython.xyz/geodata/srtm/srtm_54_06.zip\n",
      "100% done \t[****************************************************************************************************]\n",
      "Downloading uebung/srtm_54_07.zip from https://www.geopython.xyz/geodata/srtm/srtm_54_07.zip\n",
      "100% done \t[****************************************************************************************************]\n"
     ]
    }
   ],
   "source": [
    "import geoutils\n",
    "import os\n",
    "\n",
    "if os.path.exists(\"uebung\"):\n",
    "    os.rmdir(\"uebung\")\n",
    "\n",
    "\n",
    "if not os.path.exists(\"uebung\"):\n",
    "    os.mkdir(\"uebung\", mode=777)\n",
    "\n",
    "for url in range(0, len(urllist)):\n",
    "    geoutils.download(urllist[url], f\"uebung/{fname[url]}.zip\")"
   ]
  },
  {
   "cell_type": "code",
   "execution_count": 34,
   "metadata": {},
   "outputs": [
    {
     "name": "stdout",
     "output_type": "stream",
     "text": [
      "uebung/srtm_53_06.zip\n",
      "uebung/srtm_53_07.zip\n",
      "uebung/srtm_54_06.zip\n",
      "uebung/srtm_54_07.zip\n"
     ]
    }
   ],
   "source": [
    "import os\n",
    "import geoutils\n",
    "for url in urllist:\n",
    "    pfad = \"uebung/\" + os.path.basename(url)\n",
    "    print(pfad)\n",
    "    geoutils.unzip(pfad, f\"uebung/files\")"
   ]
  },
  {
   "cell_type": "code",
   "execution_count": null,
   "metadata": {},
   "outputs": [],
   "source": []
  }
 ],
 "metadata": {
  "kernelspec": {
   "display_name": "geopython38",
   "language": "python",
   "name": "python3"
  },
  "language_info": {
   "codemirror_mode": {
    "name": "ipython",
    "version": 3
   },
   "file_extension": ".py",
   "mimetype": "text/x-python",
   "name": "python",
   "nbconvert_exporter": "python",
   "pygments_lexer": "ipython3",
   "version": "3.8.16"
  },
  "orig_nbformat": 4
 },
 "nbformat": 4,
 "nbformat_minor": 2
}
