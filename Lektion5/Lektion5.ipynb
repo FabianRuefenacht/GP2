{
 "cells": [
  {
   "cell_type": "code",
   "execution_count": 1,
   "metadata": {},
   "outputs": [],
   "source": [
    "import folium"
   ]
  },
  {
   "cell_type": "code",
   "execution_count": 6,
   "metadata": {},
   "outputs": [
    {
     "name": "stdout",
     "output_type": "stream",
     "text": [
      "<folium.raster_layers.TileLayer object at 0x000001DF4E44B490>\n"
     ]
    }
   ],
   "source": [
    "m = folium.Map(location=[47.5, 7.6], tiles='', zoom_start=15)\n",
    "\n",
    "folium.raster_layers.TileLayer(tiles= \"https://wmts.geo.admin.ch/1.0.0/ch.swisstopo.swissimage/default/current/3857/{z}/{x}/{y}.jpeg\",\n",
    "                               attr= \"(c) swisstopo\",\n",
    "                               name=\"Pixelkarte Farbig\",\n",
    "                               min_zoom= 10,\n",
    "                               max_zoom = 18,\n",
    "                               tms = False,\n",
    "                               overlay = False,\n",
    "                               control= False).add_to(m)"
   ]
  }
 ],
 "metadata": {
  "kernelspec": {
   "display_name": "geopython38",
   "language": "python",
   "name": "python3"
  },
  "language_info": {
   "name": "python",
   "version": "3.8.16"
  },
  "orig_nbformat": 4
 },
 "nbformat": 4,
 "nbformat_minor": 2
}
