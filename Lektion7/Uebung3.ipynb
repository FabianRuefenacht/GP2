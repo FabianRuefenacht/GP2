{
 "cells": [
  {
   "attachments": {},
   "cell_type": "markdown",
   "id": "cdadf5a9-18d5-4474-8600-12431343d20d",
   "metadata": {},
   "source": [
    "# Uebung03: MongoDB\n",
    "\n",
    "Bringen sie den Datensatz SWISSNAMES3D ( https://www.swisstopo.admin.ch/de/geodata/landscape/names3d.html) in die MongoDB. Das File \"swissNAMES3D_PLY.csv\" ist bereits im Ordner data zu finden.\n",
    "\n",
    "Erstellen Sie eine räumliche MONGODB Datenbank mit der Objektklasse: TLM_SIEDLUNGSNAME und der Objektart: Ort\n",
    "\n",
    "Speichern Sie in der DB:\n",
    "\n",
    "* NAME\n",
    "* SPRACHCODE \n",
    "* Länge, Breite in WGS84\n",
    "* Höhe (Gebrauchshöhe LN02, nicht transformiert)\n",
    "\n",
    "\n",
    "### Vorgehensweise\n",
    "\n",
    "* **Schritt 1**: Konvertieren Sie die Koordinaten als WGS84 (pyproj) [Beispielcode gegeben]\n",
    "\n",
    "* **Schritt 2**: Fügen Sie die Daten als GeoJSON in die MongoDB\n",
    "\n",
    "* **Scrritt 3**: Erstellen Sie folgende Queries: \n",
    "   * Welches sind die 20 nächsten Orte von Zürich\n",
    "   * Welches sind die 10 am höchsten gelegenen Orte in der Schweiz ?\n",
    "   * Wieviele Orte mit Maximaldistanz 100km gibt es um Basel ?"
   ]
  },
  {
   "cell_type": "code",
   "execution_count": 1,
   "id": "cfdc8ae2-967f-44c7-aa72-cfdb4bc7cf41",
   "metadata": {},
   "outputs": [],
   "source": [
    "import pandas as pd"
   ]
  },
  {
   "cell_type": "code",
   "execution_count": 14,
   "id": "c2d9ac76-8550-4c65-b7ab-fd42a5cd32c4",
   "metadata": {},
   "outputs": [
    {
     "data": {
      "text/html": [
       "<div>\n",
       "<style scoped>\n",
       "    .dataframe tbody tr th:only-of-type {\n",
       "        vertical-align: middle;\n",
       "    }\n",
       "\n",
       "    .dataframe tbody tr th {\n",
       "        vertical-align: top;\n",
       "    }\n",
       "\n",
       "    .dataframe thead th {\n",
       "        text-align: right;\n",
       "    }\n",
       "</style>\n",
       "<table border=\"1\" class=\"dataframe\">\n",
       "  <thead>\n",
       "    <tr style=\"text-align: right;\">\n",
       "      <th></th>\n",
       "      <th>OBJEKTART</th>\n",
       "      <th>OBJEKTKLASSE_TLM</th>\n",
       "      <th>NAME</th>\n",
       "      <th>SPRACHCODE</th>\n",
       "      <th>E</th>\n",
       "      <th>N</th>\n",
       "      <th>Z</th>\n",
       "    </tr>\n",
       "  </thead>\n",
       "  <tbody>\n",
       "    <tr>\n",
       "      <th>31444</th>\n",
       "      <td>Ort</td>\n",
       "      <td>TLM_SIEDLUNGSNAME</td>\n",
       "      <td>Egghof</td>\n",
       "      <td>Hochdeutsch inkl. Lokalsprachen</td>\n",
       "      <td>2691205</td>\n",
       "      <td>1294599</td>\n",
       "      <td>624</td>\n",
       "    </tr>\n",
       "    <tr>\n",
       "      <th>31445</th>\n",
       "      <td>Ort</td>\n",
       "      <td>TLM_SIEDLUNGSNAME</td>\n",
       "      <td>Regelsrüti</td>\n",
       "      <td>Hochdeutsch inkl. Lokalsprachen</td>\n",
       "      <td>2690625</td>\n",
       "      <td>1294247</td>\n",
       "      <td>630</td>\n",
       "    </tr>\n",
       "    <tr>\n",
       "      <th>31446</th>\n",
       "      <td>Ort</td>\n",
       "      <td>TLM_SIEDLUNGSNAME</td>\n",
       "      <td>Chuttler</td>\n",
       "      <td>Hochdeutsch inkl. Lokalsprachen</td>\n",
       "      <td>2692705</td>\n",
       "      <td>1293502</td>\n",
       "      <td>546</td>\n",
       "    </tr>\n",
       "    <tr>\n",
       "      <th>31447</th>\n",
       "      <td>Ort</td>\n",
       "      <td>TLM_SIEDLUNGSNAME</td>\n",
       "      <td>Rosegghof</td>\n",
       "      <td>Hochdeutsch inkl. Lokalsprachen</td>\n",
       "      <td>2693481</td>\n",
       "      <td>1292222</td>\n",
       "      <td>509</td>\n",
       "    </tr>\n",
       "    <tr>\n",
       "      <th>31448</th>\n",
       "      <td>Ort</td>\n",
       "      <td>TLM_SIEDLUNGSNAME</td>\n",
       "      <td>Eggrüti</td>\n",
       "      <td>Hochdeutsch inkl. Lokalsprachen</td>\n",
       "      <td>2692608</td>\n",
       "      <td>1291656</td>\n",
       "      <td>558</td>\n",
       "    </tr>\n",
       "  </tbody>\n",
       "</table>\n",
       "</div>"
      ],
      "text/plain": [
       "      OBJEKTART   OBJEKTKLASSE_TLM        NAME  \\\n",
       "31444       Ort  TLM_SIEDLUNGSNAME      Egghof   \n",
       "31445       Ort  TLM_SIEDLUNGSNAME  Regelsrüti   \n",
       "31446       Ort  TLM_SIEDLUNGSNAME    Chuttler   \n",
       "31447       Ort  TLM_SIEDLUNGSNAME   Rosegghof   \n",
       "31448       Ort  TLM_SIEDLUNGSNAME     Eggrüti   \n",
       "\n",
       "                            SPRACHCODE        E        N    Z  \n",
       "31444  Hochdeutsch inkl. Lokalsprachen  2691205  1294599  624  \n",
       "31445  Hochdeutsch inkl. Lokalsprachen  2690625  1294247  630  \n",
       "31446  Hochdeutsch inkl. Lokalsprachen  2692705  1293502  546  \n",
       "31447  Hochdeutsch inkl. Lokalsprachen  2693481  1292222  509  \n",
       "31448  Hochdeutsch inkl. Lokalsprachen  2692608  1291656  558  "
      ]
     },
     "execution_count": 14,
     "metadata": {},
     "output_type": "execute_result"
    }
   ],
   "source": [
    "# das dauert... wir laden 200 MB mit geopandas.... mit MongoDB wird das massiv schneller!\n",
    "# (Man könnte dies auch ohne pandas machen, indem mach einfach durch das CSV File Zeile durch Zeile durchgeht)\n",
    "df = pd.read_csv(\"data/swissnames3d/swissNAMES3D_PLY.csv\", sep=\";\", low_memory=False)\n",
    "df = df[[\"OBJEKTART\", \"OBJEKTKLASSE_TLM\", \"NAME\", \"SPRACHCODE\", \"E\", \"N\", \"Z\"]]\n",
    "\n",
    "# Wir wollen nur die Objektklasse TLM_SIEDLUNGSNAME:\n",
    "df = df[df[\"OBJEKTKLASSE_TLM\"] == \"TLM_SIEDLUNGSNAME\"]\n",
    "df = df[df[\"OBJEKTART\"] == \"Ort\"]\n",
    "df.head()"
   ]
  },
  {
   "cell_type": "code",
   "execution_count": 15,
   "id": "c216c5d1-22e4-4db1-a3c6-e8854b9a7bbe",
   "metadata": {},
   "outputs": [
    {
     "data": {
      "text/plain": [
       "(34299, 7)"
      ]
     },
     "execution_count": 15,
     "metadata": {},
     "output_type": "execute_result"
    }
   ],
   "source": [
    "df.shape"
   ]
  },
  {
   "cell_type": "code",
   "execution_count": 16,
   "id": "5d154b56",
   "metadata": {},
   "outputs": [],
   "source": [
    "from pymongo import MongoClient\n",
    "from getpass import getuser\n",
    "\n",
    "dbname = \"GP2-\" + getuser().replace(\" \",\"\").lower()\n",
    "client = MongoClient(\"db.geopython.xyz\",\n",
    "                     username=\"igeo\",\n",
    "                     password=\"m0nG0&dB!\")\n",
    "db = client[dbname]\n",
    "collection = db.uebung3"
   ]
  },
  {
   "cell_type": "code",
   "execution_count": 17,
   "id": "8d580d40-5be2-4601-8ecb-f822073d1217",
   "metadata": {},
   "outputs": [
    {
     "name": "stdout",
     "output_type": "stream",
     "text": [
      "{'geometry': {'type': 'Point', 'coordinates': [8.088436253165229, 47.04823857971188]}, 'name': 'Landfriede', 'sprachcode': 'Hochdeutsch inkl. Lokalsprachen', 'Z': 709.0, '_id': ObjectId('6462234c4e5e06fd9fe2767b')}\n"
     ]
    }
   ],
   "source": [
    "from pyproj import Transformer\n",
    "\n",
    "transformer = Transformer.from_crs(2056, 4326)\n",
    "\n",
    "# wir können so durch alle Daten durchgehen:\n",
    "for i in range(0,df.shape[0]):\n",
    "    name = df.iloc[i]['NAME']\n",
    "    sprachcode = df.iloc[i]['SPRACHCODE']\n",
    "    E = float(df.iloc[i]['E'])\n",
    "    N = float(df.iloc[i]['N'])\n",
    "    Z = float(df.iloc[i]['Z'])\n",
    "    \n",
    "    lat, lng = transformer.transform(E, N)\n",
    "    \n",
    "    doc = {\"geometry\": {\n",
    "              \"type\": \"Point\",\n",
    "              \"coordinates\": [lng, lat],\n",
    "              },\n",
    "               \"name\": name,\n",
    "               \"sprachcode\": sprachcode,\n",
    "               \"Z\": Z   # Die Höhe wird in MongoDB nicht unterstützt\n",
    "            }\n",
    "    \n",
    "    ## und nun dieses doc der MongoDB hinzufügen...\n",
    "    # ... Code hier...\n",
    "    record = collection.insert_one(doc)\n",
    "    \n",
    "    \n",
    "    \n",
    "    ##############################################\n",
    "    \n",
    "df = None ## Speicher pandas freigeben    \n",
    "print(doc)"
   ]
  },
  {
   "attachments": {},
   "cell_type": "markdown",
   "id": "a58c5c41",
   "metadata": {},
   "source": [
    "\n",
    "* **Scrritt 3**: Erstellen Sie folgende Queries: \n",
    "   * Welches sind die 20 nächsten Orte von Zürich"
   ]
  },
  {
   "cell_type": "code",
   "execution_count": 48,
   "id": "a42b50f0-f7a9-4f7a-ac4a-c02a8c6c162a",
   "metadata": {},
   "outputs": [
    {
     "name": "stdout",
     "output_type": "stream",
     "text": [
      "1 Name: Zürich, Distance: 1284.4558488714429 meters\n",
      "2 Name: Zurigo, Distance: 1284.4558488714429 meters\n",
      "3 Name: Turitg, Distance: 1284.4558488714429 meters\n",
      "4 Name: Zurich, Distance: 1284.4558488714429 meters\n",
      "5 Name: Waidbad, Distance: 2833.026811845446 meters\n",
      "6 Name: Dreiwiesen, Distance: 3111.0737523416656 meters\n",
      "7 Name: Vorderer Adlisberg, Distance: 3546.597656459846 meters\n",
      "8 Name: Degenried, Distance: 3569.32392135601 meters\n",
      "9 Name: Tobelhof, Distance: 3705.5529940264933 meters\n",
      "10 Name: Hinterer Adlisberg, Distance: 4132.985690410834 meters\n",
      "11 Name: Gockhausen, Distance: 4653.807803423565 meters\n",
      "12 Name: Glattpark (Opfikon), Distance: 4766.540359459146 meters\n",
      "13 Name: Uetliberg, Distance: 4924.324862971358 meters\n",
      "14 Name: Reckenholz, Distance: 5402.137310580601 meters\n",
      "15 Name: Zollikon, Distance: 5443.630401786525 meters\n",
      "16 Name: Wallisellen, Distance: 5452.091015576758 meters\n",
      "17 Name: Riedenholz, Distance: 5540.190402080072 meters\n",
      "18 Name: Neugut, Distance: 5601.793113907921 meters\n",
      "19 Name: Folenweid, Distance: 5744.913141345307 meters\n",
      "20 Name: Moos, Distance: 5890.1243508757025 meters\n"
     ]
    }
   ],
   "source": [
    "import geopy.distance\n",
    "\n",
    "zh = [8.537086, 47.382032]\n",
    "\n",
    "query = {\n",
    "    \"geometry\": {\n",
    "        \"$nearSphere\": {\n",
    "            \"$geometry\": {\n",
    "                \"type\": \"Point\",\n",
    "                \"coordinates\": zh\n",
    "            }\n",
    "        }\n",
    "    }\n",
    "}\n",
    "\n",
    "for idx, item in enumerate(collection.find(query).limit(20)):\n",
    "    doc_coordinates = item['geometry']['coordinates']\n",
    "    doc_location = (doc_coordinates[1], doc_coordinates[0])  # GeoPy uses (latitude, longitude) format\n",
    "    distance = geopy.distance.distance(zh[::-1], doc_location).meters  # Calculate distance in meters\n",
    "    name = item['name']\n",
    "    print(f\"{idx + 1} Name: {name}, Distance: {distance} meters\")\n"
   ]
  },
  {
   "attachments": {},
   "cell_type": "markdown",
   "id": "7ad8bb87",
   "metadata": {},
   "source": [
    "\n",
    "   * Welches sind die 10 am höchsten gelegenen Orte in der Schweiz ?"
   ]
  },
  {
   "cell_type": "code",
   "execution_count": 55,
   "id": "b69ece01-826c-4db6-b1bf-bd2b010042ed",
   "metadata": {},
   "outputs": [
    {
     "name": "stdout",
     "output_type": "stream",
     "text": [
      "Hohsaas 3104.0\n",
      "Weissfluhjoch 2666.0\n",
      "Witenwasserntal 2569.0\n",
      "Bella Lui 2514.0\n",
      "Col du Gd-St-Bernard 2468.0\n",
      "Flüelapass 2382.0\n",
      "Strelapass 2349.0\n",
      "Val Fenga 2264.0\n",
      "Ospizio Bernina 2261.0\n",
      "La Veduta 2233.0\n"
     ]
    }
   ],
   "source": [
    "query = collection.find().sort('Z', -1).limit(10)\n",
    "\n",
    "for place in query:\n",
    "    print(place['name'], place['Z'])"
   ]
  },
  {
   "attachments": {},
   "cell_type": "markdown",
   "id": "ea8801e2",
   "metadata": {},
   "source": [
    "\n",
    "   * Wieviele Orte mit Maximaldistanz 100km gibt es um Basel ?"
   ]
  },
  {
   "cell_type": "code",
   "execution_count": 75,
   "id": "bd650247",
   "metadata": {},
   "outputs": [],
   "source": [
    "for item in collection.find({\"name\": {\"$eq\": \"Basel\"}}):\n",
    "    Basel = item[\"geometry\"][\"coordinates\"]"
   ]
  },
  {
   "cell_type": "code",
   "execution_count": 90,
   "id": "e888d711-0a45-479e-b602-e65f75b99fdc",
   "metadata": {},
   "outputs": [
    {
     "name": "stdout",
     "output_type": "stream",
     "text": [
      "20722\n"
     ]
    }
   ],
   "source": [
    "\n",
    "query = {\n",
    "    \"geometry\": {\n",
    "        \"$nearSphere\": {\n",
    "            \"$geometry\": {\n",
    "                \"type\": \"Point\",\n",
    "                \"coordinates\": Basel\n",
    "            },\n",
    "            \"$maxDistance\": 100 * 1000\n",
    "        }\n",
    "    }\n",
    "}\n",
    "\n",
    "Test = collection.find(query)\n",
    "print(len(list(Test)))"
   ]
  }
 ],
 "metadata": {
  "kernelspec": {
   "display_name": "Python 3 (ipykernel)",
   "language": "python",
   "name": "python3"
  },
  "language_info": {
   "codemirror_mode": {
    "name": "ipython",
    "version": 3
   },
   "file_extension": ".py",
   "mimetype": "text/x-python",
   "name": "python",
   "nbconvert_exporter": "python",
   "pygments_lexer": "ipython3",
   "version": "3.8.16"
  }
 },
 "nbformat": 4,
 "nbformat_minor": 5
}
