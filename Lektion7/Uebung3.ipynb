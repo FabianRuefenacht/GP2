{
 "cells": [
  {
   "cell_type": "markdown",
   "id": "cdadf5a9-18d5-4474-8600-12431343d20d",
   "metadata": {},
   "source": [
    "# Uebung03: MongoDB\n",
    "\n",
    "Bringen sie den Datensatz SWISSNAMES3D ( https://www.swisstopo.admin.ch/de/geodata/landscape/names3d.html) in die MongoDB. Das File \"swissNAMES3D_PLY.csv\" ist bereits im Ordner data zu finden.\n",
    "\n",
    "Erstellen Sie eine räumliche MONGODB Datenbank mit der Objektklasse: TLM_SIEDLUNGSNAME und der Objektart: Ort\n",
    "\n",
    "Speichern Sie in der DB:\n",
    "\n",
    "* NAME\n",
    "* SPRACHCODE \n",
    "* Länge, Breite in WGS84\n",
    "* Höhe (Gebrauchshöhe LN02, nicht transformiert)\n",
    "\n",
    "\n",
    "### Vorgehensweise\n",
    "\n",
    "* **Schritt 1**: Konvertieren Sie die Koordinaten als WGS84 (pyproj) [Beispielcode gegeben]\n",
    "\n",
    "* **Schritt 2**: Fügen Sie die Daten als GeoJSON in die MongoDB\n",
    "\n",
    "* **Scrritt 3**: Erstellen Sie folgende Queries: \n",
    "   * Welches sind die 20 nächsten Orte von Zürich\n",
    "   * Welches sind die 10 am höchsten gelegenen Orte in der Schweiz ?\n",
    "   * Wieviele Orte mit Maximaldistanz 100km gibt es um Basel ?"
   ]
  },
  {
   "cell_type": "code",
   "execution_count": null,
   "id": "cfdc8ae2-967f-44c7-aa72-cfdb4bc7cf41",
   "metadata": {},
   "outputs": [],
   "source": [
    "import pandas as pd"
   ]
  },
  {
   "cell_type": "code",
   "execution_count": null,
   "id": "c2d9ac76-8550-4c65-b7ab-fd42a5cd32c4",
   "metadata": {},
   "outputs": [],
   "source": [
    "# das dauert... wir laden 200 MB mit geopandas.... mit MongoDB wird das massiv schneller!\n",
    "# (Man könnte dies auch ohne pandas machen, indem mach einfach durch das CSV File Zeile durch Zeile durchgeht)\n",
    "df = pd.read_csv(\"data/swissnames3d/swissNAMES3D_PLY.csv\", sep=\";\", low_memory=False)\n",
    "df = df[[\"OBJEKTART\", \"OBJEKTKLASSE_TLM\", \"NAME\", \"SPRACHCODE\", \"E\", \"N\", \"Z\"]]\n",
    "\n",
    "# Wir wollen nur die Objektklasse TLM_SIEDLUNGSNAME:\n",
    "df = df[df[\"OBJEKTKLASSE_TLM\"] == \"TLM_SIEDLUNGSNAME\"]\n",
    "df = df[df[\"OBJEKTART\"] == \"Ort\"]\n",
    "df.head()"
   ]
  },
  {
   "cell_type": "code",
   "execution_count": null,
   "id": "c216c5d1-22e4-4db1-a3c6-e8854b9a7bbe",
   "metadata": {},
   "outputs": [],
   "source": [
    "df.shape"
   ]
  },
  {
   "cell_type": "code",
   "execution_count": null,
   "id": "8d580d40-5be2-4601-8ecb-f822073d1217",
   "metadata": {},
   "outputs": [],
   "source": [
    "from pyproj import Transformer\n",
    "\n",
    "transformer = Transformer.from_crs(2056, 4326)\n",
    "\n",
    "# wir können so durch alle Daten durchgehen:\n",
    "for i in range(0,df.shape[0]):\n",
    "    name = df.iloc[i]['NAME']\n",
    "    sprachcode = df.iloc[i]['SPRACHCODE']\n",
    "    E = float(df.iloc[i]['E'])\n",
    "    N = float(df.iloc[i]['N'])\n",
    "    Z = float(df.iloc[i]['Z'])\n",
    "    \n",
    "    lat, lng = transformer.transform(E, N)\n",
    "    \n",
    "    doc = {\"geometry\": {\n",
    "              \"type\": \"Point\",\n",
    "              \"coordinates\": [lng, lat],\n",
    "              },\n",
    "               \"name\": name,\n",
    "               \"sprachcode\": sprachcode,\n",
    "               \"Z\": Z   # Die Höhe wird in MongoDB nicht unterstützt\n",
    "            }\n",
    "    \n",
    "    ## und nun dieses doc der MongoDB hinzufügen...\n",
    "    # ... Code hier...\n",
    "    \n",
    "    \n",
    "    \n",
    "    ##############################################\n",
    "    \n",
    "df = None ## Speicher pandas freigeben    "
   ]
  },
  {
   "cell_type": "code",
   "execution_count": null,
   "id": "a42b50f0-f7a9-4f7a-ac4a-c02a8c6c162a",
   "metadata": {},
   "outputs": [],
   "source": []
  },
  {
   "cell_type": "code",
   "execution_count": null,
   "id": "b69ece01-826c-4db6-b1bf-bd2b010042ed",
   "metadata": {},
   "outputs": [],
   "source": []
  },
  {
   "cell_type": "code",
   "execution_count": null,
   "id": "e888d711-0a45-479e-b602-e65f75b99fdc",
   "metadata": {},
   "outputs": [],
   "source": []
  },
  {
   "cell_type": "code",
   "execution_count": null,
   "id": "e22948bb-b2f3-4ff7-9ac8-85677485bb1a",
   "metadata": {},
   "outputs": [],
   "source": []
  },
  {
   "cell_type": "code",
   "execution_count": null,
   "id": "8d03b4ea-c473-4de2-b2c4-14abd78ded5a",
   "metadata": {},
   "outputs": [],
   "source": []
  },
  {
   "cell_type": "code",
   "execution_count": null,
   "id": "cfb8e49c-55fe-41c7-ad71-46a9ec7799cf",
   "metadata": {},
   "outputs": [],
   "source": []
  },
  {
   "cell_type": "code",
   "execution_count": null,
   "id": "a4cad6ee-a37d-4abd-8bb0-bf8be13a6e1a",
   "metadata": {},
   "outputs": [],
   "source": []
  }
 ],
 "metadata": {
  "kernelspec": {
   "display_name": "Python 3 (ipykernel)",
   "language": "python",
   "name": "python3"
  },
  "language_info": {
   "codemirror_mode": {
    "name": "ipython",
    "version": 3
   },
   "file_extension": ".py",
   "mimetype": "text/x-python",
   "name": "python",
   "nbconvert_exporter": "python",
   "pygments_lexer": "ipython3",
   "version": "3.8.16"
  }
 },
 "nbformat": 4,
 "nbformat_minor": 5
}
