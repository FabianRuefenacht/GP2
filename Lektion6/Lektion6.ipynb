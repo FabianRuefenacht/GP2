{
 "cells": [
  {
   "cell_type": "code",
   "execution_count": 4,
   "metadata": {},
   "outputs": [],
   "source": [
    "import math\n",
    "def deg2rad(deg):\n",
    "    return deg * math.pi / 180"
   ]
  },
  {
   "cell_type": "code",
   "execution_count": 5,
   "metadata": {},
   "outputs": [],
   "source": [
    "a = 6378137.0\n",
    "b = 6356752.3\n",
    "\n",
    "\n",
    "R = a"
   ]
  },
  {
   "cell_type": "code",
   "execution_count": 6,
   "metadata": {},
   "outputs": [],
   "source": [
    "def toMerc(lng, lat):\n",
    "    x = R * deg2rad(lng)\n",
    "    y = R * math.log(math.tan(math.pi/4 + deg2rad(lat)/2))\n",
    "\n",
    "    return x,y"
   ]
  },
  {
   "cell_type": "code",
   "execution_count": 7,
   "metadata": {},
   "outputs": [
    {
     "data": {
      "text/plain": [
       "(-20037508.342789244, -7.081154551613622e-10)"
      ]
     },
     "execution_count": 7,
     "metadata": {},
     "output_type": "execute_result"
    }
   ],
   "source": [
    "toMerc(-180, 0)"
   ]
  },
  {
   "cell_type": "code",
   "execution_count": 8,
   "metadata": {},
   "outputs": [
    {
     "data": {
      "text/plain": [
       "(20037508.342789244, -7.081154551613622e-10)"
      ]
     },
     "execution_count": 8,
     "metadata": {},
     "output_type": "execute_result"
    }
   ],
   "source": [
    "toMerc(180, 0)"
   ]
  },
  {
   "cell_type": "code",
   "execution_count": 9,
   "metadata": {},
   "outputs": [],
   "source": [
    "q = toMerc(180, 0)[0] - toMerc(-180, 0)[0] # Erdumfang"
   ]
  },
  {
   "cell_type": "code",
   "execution_count": 10,
   "metadata": {},
   "outputs": [
    {
     "data": {
      "text/plain": [
       "6378137.000000001"
      ]
     },
     "execution_count": 10,
     "metadata": {},
     "output_type": "execute_result"
    }
   ],
   "source": [
    "q / (2*math.pi) # ergibt wieder den Erdradius"
   ]
  },
  {
   "cell_type": "code",
   "execution_count": 11,
   "metadata": {},
   "outputs": [],
   "source": [
    "from pyproj import Transformer\n",
    "\n",
    "wgs84merc = Transformer.from_crs(4326, 3857, always_xy=True)"
   ]
  },
  {
   "cell_type": "code",
   "execution_count": 12,
   "metadata": {},
   "outputs": [
    {
     "data": {
      "text/plain": [
       "(-20037508.342789244, 0.0)"
      ]
     },
     "execution_count": 12,
     "metadata": {},
     "output_type": "execute_result"
    }
   ],
   "source": [
    "wgs84merc.transform(-180, 0)"
   ]
  },
  {
   "cell_type": "code",
   "execution_count": 13,
   "metadata": {},
   "outputs": [
    {
     "data": {
      "text/plain": [
       "(20037508.342789244, 0.0)"
      ]
     },
     "execution_count": 13,
     "metadata": {},
     "output_type": "execute_result"
    }
   ],
   "source": [
    "wgs84merc.transform(180, 0)"
   ]
  },
  {
   "cell_type": "code",
   "execution_count": 14,
   "metadata": {},
   "outputs": [],
   "source": [
    "mercwgs84 = Transformer.from_crs(3857, 4326, always_xy=True)"
   ]
  },
  {
   "cell_type": "code",
   "execution_count": 15,
   "metadata": {},
   "outputs": [
    {
     "data": {
      "text/plain": [
       "(-180.0, 0.0)"
      ]
     },
     "execution_count": 15,
     "metadata": {},
     "output_type": "execute_result"
    }
   ],
   "source": [
    "mercwgs84.transform(-20037508.342789244, 0.0)"
   ]
  },
  {
   "cell_type": "code",
   "execution_count": 16,
   "metadata": {},
   "outputs": [
    {
     "data": {
      "text/plain": [
       "(-180.0, -85.0511287798066)"
      ]
     },
     "execution_count": 16,
     "metadata": {},
     "output_type": "execute_result"
    }
   ],
   "source": [
    "mercwgs84.transform(-20037508.342789244, -20037508.342789244)"
   ]
  },
  {
   "cell_type": "code",
   "execution_count": 17,
   "metadata": {},
   "outputs": [
    {
     "data": {
      "text/plain": [
       "(180.0, 85.0511287798066)"
      ]
     },
     "execution_count": 17,
     "metadata": {},
     "output_type": "execute_result"
    }
   ],
   "source": [
    "mercwgs84.transform(20037508.342789244, 20037508.342789244)"
   ]
  },
  {
   "cell_type": "code",
   "execution_count": 18,
   "metadata": {},
   "outputs": [
    {
     "data": {
      "text/plain": [
       "[-1, -1, 0.0, 0.0]"
      ]
     },
     "execution_count": 18,
     "metadata": {},
     "output_type": "execute_result"
    }
   ],
   "source": [
    "def QuadKeyToNormalizedMercatorCoord(key):\n",
    "    zoomlevels = len(key)\n",
    "    x = 0\n",
    "    y = 0\n",
    "    scale = 1.0\n",
    "    for i in range(0,zoomlevels):\n",
    "        scale /= 2.0\n",
    "        if key[i] == \"0\":\n",
    "            y += scale\n",
    "        elif key[i] == \"1\":\n",
    "            x += scale\n",
    "            y += scale\n",
    "        elif key[i] == \"2\":\n",
    "            pass\n",
    "        elif key[i] == \"3\":\n",
    "            x += scale\n",
    "\n",
    "    return [ 2*x-1, 2*y-1 , 2*(x + scale)-1, 2*(y + scale)-1]\n",
    "\n",
    "\n",
    "QuadKeyToNormalizedMercatorCoord(\"2\")\n",
    "\n",
    "# Der Grund warum man [-1, 1] und nicht [-20mio, 20mio] nimmt, ist die Präzision des DT Floatingpoint.\n",
    "# Je grösser die Zahl ist, umso mehr Präzision verliert man. Die beste Präzision hat man im Bereich [-1, 1].\n",
    "# Dies betrifft nicht nur Python sondern alle Programmiersprachen. Es ist die Schuld der Definition des Floatingpoint-Standards."
   ]
  },
  {
   "attachments": {},
   "cell_type": "markdown",
   "metadata": {},
   "source": [
    "# Wieso [-1, 1] und nicht [-20mio, 20mio]?\n",
    "Der Grund warum man [-1, 1] und nicht [-20mio, 20mio] nimmt, ist die Präzision des DT Floatingpoint. <br/>\n",
    "Je grösser die Zahl ist, umso mehr Präzision verliert man. Die beste Präzision hat man im Bereich [-1, 1].<br/>\n",
    "Dies betrifft nicht nur Python sondern alle Programmiersprachen. Es ist die Schuld der Definition des Floatingpoint-Standards."
   ]
  },
  {
   "cell_type": "code",
   "execution_count": 19,
   "metadata": {},
   "outputs": [
    {
     "data": {
      "text/plain": [
       "[-1, 0.0, 0.0, 1.0]"
      ]
     },
     "execution_count": 19,
     "metadata": {},
     "output_type": "execute_result"
    }
   ],
   "source": [
    "QuadKeyToNormalizedMercatorCoord(\"0\")"
   ]
  },
  {
   "attachments": {},
   "cell_type": "markdown",
   "metadata": {},
   "source": [
    "# Umrechnung Tilekoordinaten nach Quadkey"
   ]
  },
  {
   "cell_type": "code",
   "execution_count": 20,
   "metadata": {},
   "outputs": [],
   "source": [
    "def Tilecoord2Quadkey(x, y, zoom):\n",
    "    d = 0\n",
    "    quadkey = \"\"\n",
    "    for i in range(zoom, 0, -1):\n",
    "        mask = 1 << (i-1) # << ist das Bitshifting\n",
    "        if (x & mask) != 0:\n",
    "            d += 1\n",
    "        if (y & mask) != 0:\n",
    "            d += 2\n",
    "        quadkey += str(d)\n",
    "    return quadkey"
   ]
  },
  {
   "cell_type": "code",
   "execution_count": 21,
   "metadata": {},
   "outputs": [
    {
     "data": {
      "text/plain": [
       "'00025'"
      ]
     },
     "execution_count": 21,
     "metadata": {},
     "output_type": "execute_result"
    }
   ],
   "source": [
    "Tilecoord2Quadkey(1,3,5)"
   ]
  },
  {
   "cell_type": "code",
   "execution_count": 22,
   "metadata": {},
   "outputs": [],
   "source": [
    "# EPSG:3857 -> EPSG:4326\n",
    "def MercatorToWGS84(x, y):\n",
    "    a = 6_378_137\n",
    "    x = x/a\n",
    "    y = y/a\n",
    "\n",
    "    t = math.exp(-y)\n",
    "    lat = math.pi/2 - 2 * math.atan(t)\n",
    "    lng = x\n",
    "\n",
    "    return [lng * 180 / math.pi, lat * 180 / math.pi]"
   ]
  },
  {
   "cell_type": "code",
   "execution_count": 23,
   "metadata": {},
   "outputs": [
    {
     "data": {
      "text/plain": [
       "[179.6630568239043, 0.0]"
      ]
     },
     "execution_count": 23,
     "metadata": {},
     "output_type": "execute_result"
    }
   ],
   "source": [
    "MercatorToWGS84(20_000_000, 0)"
   ]
  },
  {
   "cell_type": "code",
   "execution_count": 24,
   "metadata": {},
   "outputs": [],
   "source": [
    "def NormalizedMercatorToWGS84(x, y):\n",
    "    x = x * math.pi\n",
    "    y = y * math.pi\n",
    "\n",
    "    t = math.exp(-y)\n",
    "    lat = math.pi/2 - 2 * math.atan(t)\n",
    "    lng = x\n",
    "\n",
    "    return [lng * 180 / math.pi, lat * 180 / math.pi]"
   ]
  },
  {
   "cell_type": "code",
   "execution_count": 25,
   "metadata": {},
   "outputs": [
    {
     "data": {
      "text/plain": [
       "[-180.0, -85.05112877980659]"
      ]
     },
     "execution_count": 25,
     "metadata": {},
     "output_type": "execute_result"
    }
   ],
   "source": [
    "NormalizedMercatorToWGS84(-1, -1)"
   ]
  },
  {
   "cell_type": "code",
   "execution_count": 26,
   "metadata": {},
   "outputs": [],
   "source": [
    "def QuadkeyToWGS84(quadcode):\n",
    "    merc = QuadKeyToNormalizedMercatorCoord(quadcode)\n",
    "    t0 = NormalizedMercatorToWGS84(merc[0], merc[2])\n",
    "    t1 = NormalizedMercatorToWGS84(merc[1], merc[3])\n",
    "    return t0, t1\n"
   ]
  },
  {
   "cell_type": "code",
   "execution_count": 27,
   "metadata": {},
   "outputs": [
    {
     "data": {
      "text/plain": [
       "([59.53030495700659, 51.031588324664746],\n",
       " [144.42414173012367, 80.80602508251606])"
      ]
     },
     "execution_count": 27,
     "metadata": {},
     "output_type": "execute_result"
    }
   ],
   "source": [
    "QuadkeyToWGS84(\"1012301203012301023010230120301230201\")"
   ]
  },
  {
   "cell_type": "code",
   "execution_count": 28,
   "metadata": {},
   "outputs": [],
   "source": [
    "def WGS84ToTile(lng, lat, zoom):\n",
    "    mapsize = 2**zoom # returns with = heigt\n",
    "\n",
    "    x = int((lng + 180) / 360 * 2**zoom) # int weil man ganze Zahlen will für die Tiles\n",
    "    y = int((1 - math.log(math.tan(lat * math.pi / 180) + 1.0 / math.cos(lat*math.pi / 180)) / math.pi) / 2 * 2**zoom)\n",
    "\n",
    "    return x, y, zoom\n",
    "\n",
    "\n"
   ]
  },
  {
   "cell_type": "code",
   "execution_count": 29,
   "metadata": {},
   "outputs": [
    {
     "data": {
      "text/plain": [
       "(136904, 91668, 18)"
      ]
     },
     "execution_count": 29,
     "metadata": {},
     "output_type": "execute_result"
    }
   ],
   "source": [
    "WGS84ToTile( 8.009742, 47.498308, 18)"
   ]
  },
  {
   "cell_type": "code",
   "execution_count": 30,
   "metadata": {},
   "outputs": [
    {
     "name": "stdout",
     "output_type": "stream",
     "text": [
      "https://a.tile.openstreetmap.org/18/136904/91668.png\n"
     ]
    }
   ],
   "source": [
    "x, y, z = WGS84ToTile( 8.009742, 47.498308, 18)\n",
    "\n",
    "\n",
    "s = f\"https://a.tile.openstreetmap.org/{z}/{x}/{y}.png\"\n",
    "print(s)"
   ]
  },
  {
   "cell_type": "code",
   "execution_count": null,
   "metadata": {},
   "outputs": [],
   "source": []
  }
 ],
 "metadata": {
  "kernelspec": {
   "display_name": "geopython38",
   "language": "python",
   "name": "python3"
  },
  "language_info": {
   "codemirror_mode": {
    "name": "ipython",
    "version": 3
   },
   "file_extension": ".py",
   "mimetype": "text/x-python",
   "name": "python",
   "nbconvert_exporter": "python",
   "pygments_lexer": "ipython3",
   "version": "3.8.16"
  },
  "orig_nbformat": 4
 },
 "nbformat": 4,
 "nbformat_minor": 2
}
